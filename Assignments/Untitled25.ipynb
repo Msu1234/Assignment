{
 "cells": [
  {
   "cell_type": "code",
   "execution_count": null,
   "id": "910f888d",
   "metadata": {},
   "outputs": [],
   "source": [
    "#write a rectangle class in python language, allowing you to build a rectangle with length and width attributes.\n",
    "#Create a perimeter()method to calculate the perimeter of the rectangle and a area()method to calculate the area of the a rectangle\n",
    "#Create a method display()that display the length, width, perimeter and area of an object created using an instantiation on rectangle class\n",
    "  "
   ]
  }
 ],
 "metadata": {
  "kernelspec": {
   "display_name": "Python 3 (ipykernel)",
   "language": "python",
   "name": "python3"
  },
  "language_info": {
   "codemirror_mode": {
    "name": "ipython",
    "version": 3
   },
   "file_extension": ".py",
   "mimetype": "text/x-python",
   "name": "python",
   "nbconvert_exporter": "python",
   "pygments_lexer": "ipython3",
   "version": "3.11.4"
  }
 },
 "nbformat": 4,
 "nbformat_minor": 5
}

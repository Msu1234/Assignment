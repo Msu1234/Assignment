{
 "cells": [
  {
   "cell_type": "code",
   "execution_count": 1,
   "id": "3a27f049",
   "metadata": {},
   "outputs": [],
   "source": [
    "#Data types\n",
    "#operations\n",
    "#Looping\n",
    "#Decision control structure\n",
    "#Function\n",
    "#Exception Handling:\n",
    "#File handlling\n",
    "#pacakages/modules"
   ]
  },
  {
   "cell_type": "code",
   "execution_count": 2,
   "id": "34721f0d",
   "metadata": {},
   "outputs": [],
   "source": [
    "#Program to count the number of each vowel in a string."
   ]
  },
  {
   "cell_type": "code",
   "execution_count": 3,
   "id": "75b7dde0",
   "metadata": {},
   "outputs": [],
   "source": [
    "#string"
   ]
  },
  {
   "cell_type": "code",
   "execution_count": 5,
   "id": "1e536314",
   "metadata": {},
   "outputs": [
    {
     "ename": "NameError",
     "evalue": "name 'vowel' is not defined",
     "output_type": "error",
     "traceback": [
      "\u001b[1;31m---------------------------------------------------------------------------\u001b[0m",
      "\u001b[1;31mNameError\u001b[0m                                 Traceback (most recent call last)",
      "Cell \u001b[1;32mIn[5], line 1\u001b[0m\n\u001b[1;32m----> 1\u001b[0m st\u001b[38;5;241m=\u001b[39m{\u001b[43mvowel\u001b[49m}\n\u001b[0;32m      2\u001b[0m \u001b[38;5;28mprint\u001b[39m(st)\n",
      "\u001b[1;31mNameError\u001b[0m: name 'vowel' is not defined"
     ]
    }
   ],
   "source": [
    "st={vowel}\n",
    "print(st)"
   ]
  },
  {
   "cell_type": "code",
   "execution_count": null,
   "id": "5f031ee3",
   "metadata": {},
   "outputs": [],
   "source": []
  }
 ],
 "metadata": {
  "kernelspec": {
   "display_name": "Python 3 (ipykernel)",
   "language": "python",
   "name": "python3"
  },
  "language_info": {
   "codemirror_mode": {
    "name": "ipython",
    "version": 3
   },
   "file_extension": ".py",
   "mimetype": "text/x-python",
   "name": "python",
   "nbconvert_exporter": "python",
   "pygments_lexer": "ipython3",
   "version": "3.11.4"
  }
 },
 "nbformat": 4,
 "nbformat_minor": 5
}

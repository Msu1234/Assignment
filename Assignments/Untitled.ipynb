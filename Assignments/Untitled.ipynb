{
 "cells": [
  {
   "cell_type": "code",
   "execution_count": 1,
   "id": "b069df14",
   "metadata": {},
   "outputs": [],
   "source": [
    "#Looping  :\n"
   ]
  },
  {
   "cell_type": "code",
   "execution_count": 2,
   "id": "8654209d",
   "metadata": {},
   "outputs": [],
   "source": [
    "#while\n",
    "#for in"
   ]
  },
  {
   "cell_type": "code",
   "execution_count": 3,
   "id": "b59a4748",
   "metadata": {},
   "outputs": [],
   "source": [
    "#operators :\n",
    "#Arithmetic :\n",
    "#Relational :\n",
    "#Logical :\n",
    "#Assignment :\n",
    "#Bitwise \n",
    "#Ternary\n",
    "#Membership operator:"
   ]
  },
  {
   "cell_type": "code",
   "execution_count": 4,
   "id": "1a81034e",
   "metadata": {},
   "outputs": [],
   "source": [
    "#Data types :\n",
    "#Built in :\n",
    "#String - sequence of characteres :\n",
    "#Tuple\n",
    "#List"
   ]
  },
  {
   "cell_type": "code",
   "execution_count": 5,
   "id": "1a318e34",
   "metadata": {},
   "outputs": [],
   "source": [
    "#Quiz Game :"
   ]
  },
  {
   "cell_type": "code",
   "execution_count": 6,
   "id": "3cab8c82",
   "metadata": {},
   "outputs": [],
   "source": [
    "#chance :\n",
    "#ul  - Upper limit\n",
    "#LL  - Lower Limit"
   ]
  },
  {
   "cell_type": "code",
   "execution_count": 7,
   "id": "df839750",
   "metadata": {},
   "outputs": [
    {
     "ename": "SyntaxError",
     "evalue": "expression cannot contain assignment, perhaps you meant \"==\"? (3834823005.py, line 2)",
     "output_type": "error",
     "traceback": [
      "\u001b[1;36m  Cell \u001b[1;32mIn[7], line 2\u001b[1;36m\u001b[0m\n\u001b[1;33m    print(\"python \"  = 10)\u001b[0m\n\u001b[1;37m          ^\u001b[0m\n\u001b[1;31mSyntaxError\u001b[0m\u001b[1;31m:\u001b[0m expression cannot contain assignment, perhaps you meant \"==\"?\n"
     ]
    }
   ],
   "source": [
    "#Looping :\n",
    "print(\"python \"  = 10)"
   ]
  },
  {
   "cell_type": "code",
   "execution_count": 8,
   "id": "7b768a6b",
   "metadata": {},
   "outputs": [
    {
     "name": "stdout",
     "output_type": "stream",
     "text": [
      "python python python python python python python python python python \n"
     ]
    }
   ],
   "source": [
    "#Looping :\n",
    "print(\"python \"  * 10)"
   ]
  },
  {
   "cell_type": "code",
   "execution_count": 9,
   "id": "12f40029",
   "metadata": {},
   "outputs": [
    {
     "ename": "SyntaxError",
     "evalue": "invalid syntax (88224689.py, line 2)",
     "output_type": "error",
     "traceback": [
      "\u001b[1;36m  Cell \u001b[1;32mIn[9], line 2\u001b[1;36m\u001b[0m\n\u001b[1;33m    While(i<=10):\u001b[0m\n\u001b[1;37m                ^\u001b[0m\n\u001b[1;31mSyntaxError\u001b[0m\u001b[1;31m:\u001b[0m invalid syntax\n"
     ]
    }
   ],
   "source": [
    "i = 1\n",
    "While(i<=10):\n",
    "    print(\"Monu\")\n",
    "    i=i+1"
   ]
  },
  {
   "cell_type": "code",
   "execution_count": 10,
   "id": "08034451",
   "metadata": {},
   "outputs": [
    {
     "name": "stdout",
     "output_type": "stream",
     "text": [
      "Monu\n",
      "Monu\n",
      "Monu\n",
      "Monu\n",
      "Monu\n",
      "Monu\n",
      "Monu\n",
      "Monu\n",
      "Monu\n",
      "Monu\n"
     ]
    }
   ],
   "source": [
    "i = 1\n",
    "while(i<=10):\n",
    "    print(\"Monu\")\n",
    "    i=i+1"
   ]
  },
  {
   "cell_type": "code",
   "execution_count": 12,
   "id": "ab224b96",
   "metadata": {},
   "outputs": [],
   "source": [
    "#Relational operator : >, <, >=, <=, ==, ===, !=, 1=="
   ]
  },
  {
   "cell_type": "code",
   "execution_count": 13,
   "id": "5f1fea43",
   "metadata": {},
   "outputs": [],
   "source": [
    "#Decision COntrol Structure : if if else if elif else"
   ]
  },
  {
   "cell_type": "code",
   "execution_count": 14,
   "id": "9773417d",
   "metadata": {},
   "outputs": [
    {
     "name": "stdout",
     "output_type": "stream",
     "text": [
      "Bali\n"
     ]
    }
   ],
   "source": [
    "if(20 > 30):\n",
    "    print(\"Aadipurush\")\n",
    "else:\n",
    "    print(\"Bali\")"
   ]
  },
  {
   "cell_type": "code",
   "execution_count": 15,
   "id": "2e734894",
   "metadata": {},
   "outputs": [
    {
     "name": "stdout",
     "output_type": "stream",
     "text": [
      "data \n"
     ]
    }
   ],
   "source": [
    "x = 20\n",
    "y = 30\n",
    "if(x>y):\n",
    "    print(\"Ram\")\n",
    "else:\n",
    "    print(\"data \")"
   ]
  },
  {
   "cell_type": "code",
   "execution_count": 16,
   "id": "9f48d2f1",
   "metadata": {},
   "outputs": [],
   "source": [
    "import random"
   ]
  },
  {
   "cell_type": "code",
   "execution_count": 17,
   "id": "ab9473fd",
   "metadata": {},
   "outputs": [],
   "source": [
    "Is = [\"Apple\",\"Orange\",\"Banana\", \"Mango\", \"Grapes\"]"
   ]
  },
  {
   "cell_type": "code",
   "execution_count": 18,
   "id": "22ebc939",
   "metadata": {},
   "outputs": [
    {
     "data": {
      "text/plain": [
       "'Apple'"
      ]
     },
     "execution_count": 18,
     "metadata": {},
     "output_type": "execute_result"
    }
   ],
   "source": [
    "Is[0]"
   ]
  },
  {
   "cell_type": "code",
   "execution_count": 19,
   "id": "e5ab6950",
   "metadata": {},
   "outputs": [
    {
     "data": {
      "text/plain": [
       "'Orange'"
      ]
     },
     "execution_count": 19,
     "metadata": {},
     "output_type": "execute_result"
    }
   ],
   "source": [
    "Is[1]"
   ]
  },
  {
   "cell_type": "code",
   "execution_count": 20,
   "id": "04ac9441",
   "metadata": {},
   "outputs": [
    {
     "data": {
      "text/plain": [
       "'Banana'"
      ]
     },
     "execution_count": 20,
     "metadata": {},
     "output_type": "execute_result"
    }
   ],
   "source": [
    "Is[2]"
   ]
  },
  {
   "cell_type": "code",
   "execution_count": 21,
   "id": "02278a8b",
   "metadata": {},
   "outputs": [
    {
     "data": {
      "text/plain": [
       "'Mango'"
      ]
     },
     "execution_count": 21,
     "metadata": {},
     "output_type": "execute_result"
    }
   ],
   "source": [
    "Is[3]"
   ]
  },
  {
   "cell_type": "code",
   "execution_count": 22,
   "id": "8390f1a8",
   "metadata": {},
   "outputs": [
    {
     "data": {
      "text/plain": [
       "['Apple', 'Orange', 'Banana', 'Mango', 'Grapes']"
      ]
     },
     "execution_count": 22,
     "metadata": {},
     "output_type": "execute_result"
    }
   ],
   "source": [
    "Is"
   ]
  },
  {
   "cell_type": "code",
   "execution_count": 23,
   "id": "774ab035",
   "metadata": {},
   "outputs": [
    {
     "data": {
      "text/plain": [
       "['Apple', 'orange', 'Banana', 'Mango', 'Grapes']"
      ]
     },
     "execution_count": 23,
     "metadata": {},
     "output_type": "execute_result"
    }
   ],
   "source": [
    "[\"Apple\", \"orange\", \"Banana\", \"Mango\",\"Grapes\"]"
   ]
  },
  {
   "cell_type": "code",
   "execution_count": 24,
   "id": "c9f7a088",
   "metadata": {},
   "outputs": [
    {
     "ename": "NameError",
     "evalue": "name 'randon' is not defined",
     "output_type": "error",
     "traceback": [
      "\u001b[1;31m---------------------------------------------------------------------------\u001b[0m",
      "\u001b[1;31mNameError\u001b[0m                                 Traceback (most recent call last)",
      "Cell \u001b[1;32mIn[24], line 1\u001b[0m\n\u001b[1;32m----> 1\u001b[0m \u001b[43mrandon\u001b[49m\u001b[38;5;241m.\u001b[39mchoice()\n",
      "\u001b[1;31mNameError\u001b[0m: name 'randon' is not defined"
     ]
    }
   ],
   "source": [
    "randon.choice()"
   ]
  },
  {
   "cell_type": "code",
   "execution_count": 28,
   "id": "7f7985b6",
   "metadata": {},
   "outputs": [
    {
     "ename": "TypeError",
     "evalue": "Random.choice() missing 1 required positional argument: 'seq'",
     "output_type": "error",
     "traceback": [
      "\u001b[1;31m---------------------------------------------------------------------------\u001b[0m",
      "\u001b[1;31mTypeError\u001b[0m                                 Traceback (most recent call last)",
      "Cell \u001b[1;32mIn[28], line 1\u001b[0m\n\u001b[1;32m----> 1\u001b[0m \u001b[43mrandom\u001b[49m\u001b[38;5;241;43m.\u001b[39;49m\u001b[43mchoice\u001b[49m\u001b[43m(\u001b[49m\u001b[43m)\u001b[49m\n",
      "\u001b[1;31mTypeError\u001b[0m: Random.choice() missing 1 required positional argument: 'seq'"
     ]
    }
   ],
   "source": [
    "random.choice()\n"
   ]
  },
  {
   "cell_type": "code",
   "execution_count": 31,
   "id": "f410c3b9",
   "metadata": {},
   "outputs": [
    {
     "data": {
      "text/plain": [
       "'Apple'"
      ]
     },
     "execution_count": 31,
     "metadata": {},
     "output_type": "execute_result"
    }
   ],
   "source": [
    "random.choice(Is)"
   ]
  },
  {
   "cell_type": "code",
   "execution_count": 32,
   "id": "3f5f735e",
   "metadata": {},
   "outputs": [
    {
     "data": {
      "text/plain": [
       "'Mango'"
      ]
     },
     "execution_count": 32,
     "metadata": {},
     "output_type": "execute_result"
    }
   ],
   "source": [
    "random.choice(Is)"
   ]
  },
  {
   "cell_type": "code",
   "execution_count": 33,
   "id": "e45761fe",
   "metadata": {},
   "outputs": [
    {
     "data": {
      "text/plain": [
       "'Orange'"
      ]
     },
     "execution_count": 33,
     "metadata": {},
     "output_type": "execute_result"
    }
   ],
   "source": [
    "random.choice(Is)"
   ]
  },
  {
   "cell_type": "code",
   "execution_count": 34,
   "id": "744c16e9",
   "metadata": {},
   "outputs": [
    {
     "data": {
      "text/plain": [
       "'Apple'"
      ]
     },
     "execution_count": 34,
     "metadata": {},
     "output_type": "execute_result"
    }
   ],
   "source": [
    "random.choice(Is)"
   ]
  },
  {
   "cell_type": "code",
   "execution_count": 35,
   "id": "643fa96c",
   "metadata": {},
   "outputs": [
    {
     "data": {
      "text/plain": [
       "'Apple'"
      ]
     },
     "execution_count": 35,
     "metadata": {},
     "output_type": "execute_result"
    }
   ],
   "source": [
    "random.choice(Is)"
   ]
  },
  {
   "cell_type": "code",
   "execution_count": 36,
   "id": "ab31b03b",
   "metadata": {},
   "outputs": [
    {
     "data": {
      "text/plain": [
       "'Grapes'"
      ]
     },
     "execution_count": 36,
     "metadata": {},
     "output_type": "execute_result"
    }
   ],
   "source": [
    "random.choice(Is)"
   ]
  },
  {
   "cell_type": "code",
   "execution_count": 37,
   "id": "7498c1d3",
   "metadata": {},
   "outputs": [
    {
     "data": {
      "text/plain": [
       "0.7238630103332969"
      ]
     },
     "execution_count": 37,
     "metadata": {},
     "output_type": "execute_result"
    }
   ],
   "source": [
    "random.random()"
   ]
  },
  {
   "cell_type": "code",
   "execution_count": 38,
   "id": "c93644a3",
   "metadata": {},
   "outputs": [
    {
     "data": {
      "text/plain": [
       "0.5741029510851717"
      ]
     },
     "execution_count": 38,
     "metadata": {},
     "output_type": "execute_result"
    }
   ],
   "source": [
    "random.random()"
   ]
  },
  {
   "cell_type": "code",
   "execution_count": 39,
   "id": "0ac0ae9c",
   "metadata": {},
   "outputs": [
    {
     "data": {
      "text/plain": [
       "0.6162895755235626"
      ]
     },
     "execution_count": 39,
     "metadata": {},
     "output_type": "execute_result"
    }
   ],
   "source": [
    "random.random()"
   ]
  },
  {
   "cell_type": "code",
   "execution_count": 40,
   "id": "f5c3d332",
   "metadata": {},
   "outputs": [
    {
     "ename": "AttributeError",
     "evalue": "module 'random' has no attribute 'randit'",
     "output_type": "error",
     "traceback": [
      "\u001b[1;31m---------------------------------------------------------------------------\u001b[0m",
      "\u001b[1;31mAttributeError\u001b[0m                            Traceback (most recent call last)",
      "Cell \u001b[1;32mIn[40], line 1\u001b[0m\n\u001b[1;32m----> 1\u001b[0m \u001b[43mrandom\u001b[49m\u001b[38;5;241;43m.\u001b[39;49m\u001b[43mrandit\u001b[49m()\n",
      "\u001b[1;31mAttributeError\u001b[0m: module 'random' has no attribute 'randit'"
     ]
    }
   ],
   "source": [
    "random.randit()"
   ]
  },
  {
   "cell_type": "code",
   "execution_count": 42,
   "id": "e3cd89f1",
   "metadata": {},
   "outputs": [
    {
     "data": {
      "text/plain": [
       "4"
      ]
     },
     "execution_count": 42,
     "metadata": {},
     "output_type": "execute_result"
    }
   ],
   "source": [
    "random.randint(1, 10)"
   ]
  },
  {
   "cell_type": "code",
   "execution_count": 43,
   "id": "3687097f",
   "metadata": {},
   "outputs": [
    {
     "data": {
      "text/plain": [
       "6"
      ]
     },
     "execution_count": 43,
     "metadata": {},
     "output_type": "execute_result"
    }
   ],
   "source": [
    "random.randint(1, 10)"
   ]
  },
  {
   "cell_type": "code",
   "execution_count": 44,
   "id": "2feb499a",
   "metadata": {},
   "outputs": [
    {
     "data": {
      "text/plain": [
       "2"
      ]
     },
     "execution_count": 44,
     "metadata": {},
     "output_type": "execute_result"
    }
   ],
   "source": [
    "random.randint(1, 10)"
   ]
  },
  {
   "cell_type": "code",
   "execution_count": 45,
   "id": "86d515ea",
   "metadata": {},
   "outputs": [
    {
     "data": {
      "text/plain": [
       "9"
      ]
     },
     "execution_count": 45,
     "metadata": {},
     "output_type": "execute_result"
    }
   ],
   "source": [
    "random.randint(1, 10)"
   ]
  },
  {
   "cell_type": "code",
   "execution_count": 46,
   "id": "07d00e25",
   "metadata": {},
   "outputs": [
    {
     "data": {
      "text/plain": [
       "['Apple', 'Orange', 'Banana', 'Mango', 'Grapes']"
      ]
     },
     "execution_count": 46,
     "metadata": {},
     "output_type": "execute_result"
    }
   ],
   "source": [
    "Is"
   ]
  },
  {
   "cell_type": "code",
   "execution_count": 47,
   "id": "22fe4bb7",
   "metadata": {},
   "outputs": [
    {
     "data": {
      "text/plain": [
       "['Banana']"
      ]
     },
     "execution_count": 47,
     "metadata": {},
     "output_type": "execute_result"
    }
   ],
   "source": [
    "random.choices(Is)"
   ]
  },
  {
   "cell_type": "code",
   "execution_count": 49,
   "id": "a394025e",
   "metadata": {},
   "outputs": [
    {
     "data": {
      "text/plain": [
       "'Banana'"
      ]
     },
     "execution_count": 49,
     "metadata": {},
     "output_type": "execute_result"
    }
   ],
   "source": [
    "random.choice(Is)"
   ]
  },
  {
   "cell_type": "code",
   "execution_count": 50,
   "id": "c4fc7fbf",
   "metadata": {},
   "outputs": [
    {
     "name": "stdout",
     "output_type": "stream",
     "text": [
      "Enter the upper limit : 100\n"
     ]
    },
    {
     "ename": "NameError",
     "evalue": "name 'LL' is not defined",
     "output_type": "error",
     "traceback": [
      "\u001b[1;31m---------------------------------------------------------------------------\u001b[0m",
      "\u001b[1;31mNameError\u001b[0m                                 Traceback (most recent call last)",
      "Cell \u001b[1;32mIn[50], line 2\u001b[0m\n\u001b[0;32m      1\u001b[0m ul \u001b[38;5;241m=\u001b[39m \u001b[38;5;28mint\u001b[39m(\u001b[38;5;28minput\u001b[39m(\u001b[38;5;124m\"\u001b[39m\u001b[38;5;124mEnter the upper limit : \u001b[39m\u001b[38;5;124m\"\u001b[39m))\n\u001b[1;32m----> 2\u001b[0m \u001b[43mLL\u001b[49m \u001b[38;5;241m+\u001b[39m \u001b[38;5;28mint\u001b[39m(\u001b[38;5;28minput\u001b[39m(\u001b[38;5;124m\"\u001b[39m\u001b[38;5;124mEnter the lower limit : \u001b[39m\u001b[38;5;124m\"\u001b[39m))\n\u001b[0;32m      3\u001b[0m random_number \u001b[38;5;241m=\u001b[39m random\u001b[38;5;241m.\u001b[39mrandint(ll, ul)\n\u001b[0;32m      4\u001b[0m guess \u001b[38;5;241m=\u001b[39m \u001b[38;5;28mint\u001b[39m(\u001b[38;5;28minput\u001b[39m(\u001b[38;5;124m\"\u001b[39m\u001b[38;5;124mEnter your guess\u001b[39m\u001b[38;5;124m\"\u001b[39m))\n",
      "\u001b[1;31mNameError\u001b[0m: name 'LL' is not defined"
     ]
    }
   ],
   "source": [
    "ul = int(input(\"Enter the upper limit : \"))\n",
    "LL + int(input(\"Enter the lower limit : \"))\n",
    "random_number = random.randint(ll, ul)\n",
    "guess = int(input(\"Enter your guess\"))\n",
    "if(random_number == guess):\n",
    "    print(\"you are winner\")\n",
    "else:\n",
    "    print(\"Try again\")\n",
    "    "
   ]
  },
  {
   "cell_type": "code",
   "execution_count": 51,
   "id": "c31aa0aa",
   "metadata": {},
   "outputs": [
    {
     "name": "stdout",
     "output_type": "stream",
     "text": [
      "Enter the upper limit : 100\n"
     ]
    },
    {
     "ename": "NameError",
     "evalue": "name 'LL' is not defined",
     "output_type": "error",
     "traceback": [
      "\u001b[1;31m---------------------------------------------------------------------------\u001b[0m",
      "\u001b[1;31mNameError\u001b[0m                                 Traceback (most recent call last)",
      "Cell \u001b[1;32mIn[51], line 2\u001b[0m\n\u001b[0;32m      1\u001b[0m ul \u001b[38;5;241m=\u001b[39m \u001b[38;5;28mint\u001b[39m(\u001b[38;5;28minput\u001b[39m(\u001b[38;5;124m\"\u001b[39m\u001b[38;5;124mEnter the upper limit : \u001b[39m\u001b[38;5;124m\"\u001b[39m))\n\u001b[1;32m----> 2\u001b[0m \u001b[43mLL\u001b[49m \u001b[38;5;241m+\u001b[39m \u001b[38;5;28mint\u001b[39m(\u001b[38;5;28minput\u001b[39m(\u001b[38;5;124m\"\u001b[39m\u001b[38;5;124mEnter the lower limit : \u001b[39m\u001b[38;5;124m\"\u001b[39m))\n\u001b[0;32m      3\u001b[0m random_number \u001b[38;5;241m=\u001b[39m random\u001b[38;5;241m.\u001b[39mrandint(ll, ul)\n\u001b[0;32m      4\u001b[0m guess \u001b[38;5;241m=\u001b[39m \u001b[38;5;28mint\u001b[39m(\u001b[38;5;28minput\u001b[39m(\u001b[38;5;124m\"\u001b[39m\u001b[38;5;124mEnter your guess\u001b[39m\u001b[38;5;124m\"\u001b[39m))\n",
      "\u001b[1;31mNameError\u001b[0m: name 'LL' is not defined"
     ]
    }
   ],
   "source": [
    "ul = int(input(\"Enter the upper limit : \"))\n",
    "LL + int(input(\"Enter the lower limit : \"))\n",
    "random_number = random.randint(ll, ul)\n",
    "guess = int(input(\"Enter your guess\"))\n",
    "if(random_number == guess):\n",
    "    print(\"you are winner\")\n",
    "else:\n",
    "    print(\"Try again\")"
   ]
  },
  {
   "cell_type": "code",
   "execution_count": 52,
   "id": "7a8d4b3e",
   "metadata": {},
   "outputs": [
    {
     "name": "stdout",
     "output_type": "stream",
     "text": [
      "Enter the upper limit : 100\n"
     ]
    },
    {
     "ename": "NameError",
     "evalue": "name 'LL' is not defined",
     "output_type": "error",
     "traceback": [
      "\u001b[1;31m---------------------------------------------------------------------------\u001b[0m",
      "\u001b[1;31mNameError\u001b[0m                                 Traceback (most recent call last)",
      "Cell \u001b[1;32mIn[52], line 2\u001b[0m\n\u001b[0;32m      1\u001b[0m ul \u001b[38;5;241m=\u001b[39m \u001b[38;5;28mint\u001b[39m(\u001b[38;5;28minput\u001b[39m(\u001b[38;5;124m\"\u001b[39m\u001b[38;5;124mEnter the upper limit : \u001b[39m\u001b[38;5;124m\"\u001b[39m))\n\u001b[1;32m----> 2\u001b[0m \u001b[43mLL\u001b[49m \u001b[38;5;241m+\u001b[39m \u001b[38;5;28mint\u001b[39m(\u001b[38;5;28minput\u001b[39m(\u001b[38;5;124m\"\u001b[39m\u001b[38;5;124mEnter the lower limit : \u001b[39m\u001b[38;5;124m\"\u001b[39m))\n\u001b[0;32m      3\u001b[0m random_number \u001b[38;5;241m=\u001b[39m random\u001b[38;5;241m.\u001b[39mrandint(ll, ul)\n\u001b[0;32m      4\u001b[0m guess \u001b[38;5;241m=\u001b[39m \u001b[38;5;28mint\u001b[39m(\u001b[38;5;28minput\u001b[39m(\u001b[38;5;124m\"\u001b[39m\u001b[38;5;124mEnter your guess\u001b[39m\u001b[38;5;124m\"\u001b[39m))\n",
      "\u001b[1;31mNameError\u001b[0m: name 'LL' is not defined"
     ]
    }
   ],
   "source": [
    "ul = int(input(\"Enter the upper limit : \"))\n",
    "LL + int(input(\"Enter the lower limit : \"))\n",
    "random_number = random.randint(ll, ul)\n",
    "guess = int(input(\"Enter your guess\"))\n",
    "if(random_number == guess):\n",
    "    print(\"you are winner\")\n",
    "else:\n",
    "    print(\"Try again\")"
   ]
  },
  {
   "cell_type": "code",
   "execution_count": 53,
   "id": "2fea0db5",
   "metadata": {},
   "outputs": [
    {
     "name": "stdout",
     "output_type": "stream",
     "text": [
      "Enter the upper limit : 100\n",
      "Enter the lower limit : 90\n",
      "Enter your guess99\n",
      "Try again\n"
     ]
    }
   ],
   "source": [
    "ul = int(input(\"Enter the upper limit : \"))\n",
    "ll = int(input(\"Enter the lower limit : \"))\n",
    "random_number = random.randint(ll, ul)\n",
    "guess = int(input(\"Enter your guess\"))\n",
    "if(random_number == guess):\n",
    "    print(\"you are winner\")\n",
    "else:\n",
    "    print(\"Try again\")"
   ]
  },
  {
   "cell_type": "code",
   "execution_count": 54,
   "id": "a62dfa96",
   "metadata": {},
   "outputs": [
    {
     "name": "stdout",
     "output_type": "stream",
     "text": [
      "Enter the upper limit : 100\n",
      "Enter the lower limit : 90\n",
      "Enter your guess95\n",
      "Try again\n"
     ]
    }
   ],
   "source": [
    "ul = int(input(\"Enter the upper limit : \"))\n",
    "ll = int(input(\"Enter the lower limit : \"))\n",
    "random_number = random.randint(ll, ul)\n",
    "guess = int(input(\"Enter your guess\"))\n",
    "if(random_number == guess):\n",
    "    print(\"you are winner\")\n",
    "else:\n",
    "    print(\"Try again\")"
   ]
  },
  {
   "cell_type": "code",
   "execution_count": 55,
   "id": "2eb0232d",
   "metadata": {},
   "outputs": [
    {
     "name": "stdout",
     "output_type": "stream",
     "text": [
      "Enter the upper limit : 100\n",
      "Enter the lower limit : 95\n",
      "Enter your guess96\n",
      "Try again\n"
     ]
    }
   ],
   "source": [
    "ul = int(input(\"Enter the upper limit : \"))\n",
    "ll = int(input(\"Enter the lower limit : \"))\n",
    "random_number = random.randint(ll, ul)\n",
    "guess = int(input(\"Enter your guess\"))\n",
    "if(random_number == guess):\n",
    "    print(\"you are winner\")\n",
    "else:\n",
    "    print(\"Try again\")"
   ]
  },
  {
   "cell_type": "code",
   "execution_count": 56,
   "id": "b231bcbb",
   "metadata": {},
   "outputs": [
    {
     "name": "stdout",
     "output_type": "stream",
     "text": [
      "Enter the upper limit : 100\n",
      "Enter the lower limit : 90\n",
      "Enter your guess90\n",
      "Try again\n"
     ]
    }
   ],
   "source": [
    "ul = int(input(\"Enter the upper limit : \"))\n",
    "ll = int(input(\"Enter the lower limit : \"))\n",
    "random_number = random.randint(ll, ul)\n",
    "guess = int(input(\"Enter your guess\"))\n",
    "if(random_number == guess):\n",
    "    print(\"you are winner\")\n",
    "else:\n",
    "    print(\"Try again\")"
   ]
  },
  {
   "cell_type": "code",
   "execution_count": null,
   "id": "8a1c73b2",
   "metadata": {},
   "outputs": [],
   "source": []
  }
 ],
 "metadata": {
  "kernelspec": {
   "display_name": "Python 3 (ipykernel)",
   "language": "python",
   "name": "python3"
  },
  "language_info": {
   "codemirror_mode": {
    "name": "ipython",
    "version": 3
   },
   "file_extension": ".py",
   "mimetype": "text/x-python",
   "name": "python",
   "nbconvert_exporter": "python",
   "pygments_lexer": "ipython3",
   "version": "3.11.4"
  }
 },
 "nbformat": 4,
 "nbformat_minor": 5
}

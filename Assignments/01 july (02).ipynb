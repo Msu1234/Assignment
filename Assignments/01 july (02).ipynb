{
 "cells": [
  {
   "cell_type": "code",
   "execution_count": 1,
   "id": "e8cfd749",
   "metadata": {},
   "outputs": [],
   "source": [
    "ls = ['apple', 'banana', 'grapes', 'orange', 'guava']"
   ]
  },
  {
   "cell_type": "code",
   "execution_count": 2,
   "id": "3c1a56f5",
   "metadata": {},
   "outputs": [
    {
     "name": "stdout",
     "output_type": "stream",
     "text": [
      "['apple', 'banana', 'grapes', 'orange', 'guava']\n"
     ]
    }
   ],
   "source": [
    "print(ls)"
   ]
  },
  {
   "cell_type": "code",
   "execution_count": 3,
   "id": "d1844d40",
   "metadata": {},
   "outputs": [],
   "source": [
    "import random"
   ]
  },
  {
   "cell_type": "code",
   "execution_count": 5,
   "id": "e8250a41",
   "metadata": {},
   "outputs": [
    {
     "data": {
      "text/plain": [
       "'orange'"
      ]
     },
     "execution_count": 5,
     "metadata": {},
     "output_type": "execute_result"
    }
   ],
   "source": [
    "random.choice(ls)"
   ]
  },
  {
   "cell_type": "code",
   "execution_count": 6,
   "id": "45eb6372",
   "metadata": {},
   "outputs": [
    {
     "data": {
      "text/plain": [
       "'grapes'"
      ]
     },
     "execution_count": 6,
     "metadata": {},
     "output_type": "execute_result"
    }
   ],
   "source": [
    "random.choice(ls)"
   ]
  },
  {
   "cell_type": "code",
   "execution_count": 7,
   "id": "1aea19e2",
   "metadata": {},
   "outputs": [
    {
     "data": {
      "text/plain": [
       "['banana']"
      ]
     },
     "execution_count": 7,
     "metadata": {},
     "output_type": "execute_result"
    }
   ],
   "source": [
    "random.choices(ls)"
   ]
  },
  {
   "cell_type": "code",
   "execution_count": 8,
   "id": "6c44bf37",
   "metadata": {},
   "outputs": [
    {
     "data": {
      "text/plain": [
       "['grapes']"
      ]
     },
     "execution_count": 8,
     "metadata": {},
     "output_type": "execute_result"
    }
   ],
   "source": [
    "random.choices(ls)"
   ]
  },
  {
   "cell_type": "code",
   "execution_count": 10,
   "id": "eee50f36",
   "metadata": {},
   "outputs": [
    {
     "data": {
      "text/plain": [
       "['orange', 'banana']"
      ]
     },
     "execution_count": 10,
     "metadata": {},
     "output_type": "execute_result"
    }
   ],
   "source": [
    "random.sample(ls, 2)"
   ]
  },
  {
   "cell_type": "code",
   "execution_count": 11,
   "id": "894cc95f",
   "metadata": {},
   "outputs": [
    {
     "data": {
      "text/plain": [
       "['banana', 'guava', 'orange', 'grapes']"
      ]
     },
     "execution_count": 11,
     "metadata": {},
     "output_type": "execute_result"
    }
   ],
   "source": [
    "random.sample(ls, 4)"
   ]
  },
  {
   "cell_type": "code",
   "execution_count": 12,
   "id": "6c2046dd",
   "metadata": {},
   "outputs": [
    {
     "data": {
      "text/plain": [
       "['grapes', 'orange', 'grapes']"
      ]
     },
     "execution_count": 12,
     "metadata": {},
     "output_type": "execute_result"
    }
   ],
   "source": [
    "random.choices(ls, k=3)"
   ]
  },
  {
   "cell_type": "code",
   "execution_count": 13,
   "id": "b1da1368",
   "metadata": {},
   "outputs": [],
   "source": [
    "#jumbled Game"
   ]
  },
  {
   "cell_type": "code",
   "execution_count": 14,
   "id": "0a23100e",
   "metadata": {},
   "outputs": [],
   "source": [
    "#string"
   ]
  },
  {
   "cell_type": "code",
   "execution_count": 15,
   "id": "792e9e27",
   "metadata": {},
   "outputs": [],
   "source": [
    "#sequence of characters"
   ]
  },
  {
   "cell_type": "code",
   "execution_count": 20,
   "id": "9df447b7",
   "metadata": {},
   "outputs": [],
   "source": [
    "st = \"manmohan\""
   ]
  },
  {
   "cell_type": "code",
   "execution_count": 22,
   "id": "53997267",
   "metadata": {},
   "outputs": [
    {
     "data": {
      "text/plain": [
       "'Manmohan'"
      ]
     },
     "execution_count": 22,
     "metadata": {},
     "output_type": "execute_result"
    }
   ],
   "source": [
    "st.capitalize()"
   ]
  },
  {
   "cell_type": "code",
   "execution_count": 24,
   "id": "35bb6d28",
   "metadata": {},
   "outputs": [
    {
     "data": {
      "text/plain": [
       "'manmohan'"
      ]
     },
     "execution_count": 24,
     "metadata": {},
     "output_type": "execute_result"
    }
   ],
   "source": [
    "st.center(5)"
   ]
  },
  {
   "cell_type": "code",
   "execution_count": 25,
   "id": "7f4bc7ef",
   "metadata": {},
   "outputs": [
    {
     "data": {
      "text/plain": [
       "'manmohan'"
      ]
     },
     "execution_count": 25,
     "metadata": {},
     "output_type": "execute_result"
    }
   ],
   "source": [
    "st.center(2)"
   ]
  },
  {
   "cell_type": "code",
   "execution_count": 27,
   "id": "45118994",
   "metadata": {},
   "outputs": [
    {
     "data": {
      "text/plain": [
       "True"
      ]
     },
     "execution_count": 27,
     "metadata": {},
     "output_type": "execute_result"
    }
   ],
   "source": [
    "st.endswith('n')"
   ]
  },
  {
   "cell_type": "code",
   "execution_count": 28,
   "id": "41e7e408",
   "metadata": {},
   "outputs": [
    {
     "data": {
      "text/plain": [
       "False"
      ]
     },
     "execution_count": 28,
     "metadata": {},
     "output_type": "execute_result"
    }
   ],
   "source": [
    "st.isupper()"
   ]
  },
  {
   "cell_type": "code",
   "execution_count": 29,
   "id": "a7390a21",
   "metadata": {},
   "outputs": [
    {
     "data": {
      "text/plain": [
       "'manmohan'"
      ]
     },
     "execution_count": 29,
     "metadata": {},
     "output_type": "execute_result"
    }
   ],
   "source": [
    "st.lower()"
   ]
  },
  {
   "cell_type": "code",
   "execution_count": 30,
   "id": "09e052fd",
   "metadata": {},
   "outputs": [
    {
     "data": {
      "text/plain": [
       "'manmohan'"
      ]
     },
     "execution_count": 30,
     "metadata": {},
     "output_type": "execute_result"
    }
   ],
   "source": [
    "st.format()"
   ]
  },
  {
   "cell_type": "code",
   "execution_count": null,
   "id": "5ed9d938",
   "metadata": {},
   "outputs": [],
   "source": []
  }
 ],
 "metadata": {
  "kernelspec": {
   "display_name": "Python 3 (ipykernel)",
   "language": "python",
   "name": "python3"
  },
  "language_info": {
   "codemirror_mode": {
    "name": "ipython",
    "version": 3
   },
   "file_extension": ".py",
   "mimetype": "text/x-python",
   "name": "python",
   "nbconvert_exporter": "python",
   "pygments_lexer": "ipython3",
   "version": "3.11.4"
  }
 },
 "nbformat": 4,
 "nbformat_minor": 5
}

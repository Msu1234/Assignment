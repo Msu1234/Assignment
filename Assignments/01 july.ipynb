{
 "cells": [
  {
   "cell_type": "code",
   "execution_count": 7,
   "id": "02d3e9ff",
   "metadata": {},
   "outputs": [],
   "source": [
    "#math module\n",
    "#random module"
   ]
  },
  {
   "cell_type": "code",
   "execution_count": 8,
   "id": "4a62dc85",
   "metadata": {},
   "outputs": [],
   "source": [
    "ls = (\"orange\", \"Apple\", \"Banana\", \"grapes\", \"guava\")"
   ]
  },
  {
   "cell_type": "code",
   "execution_count": 10,
   "id": "46e9932d",
   "metadata": {
    "scrolled": true
   },
   "outputs": [
    {
     "ename": "AttributeError",
     "evalue": "'tuple' object has no attribute 'choice'",
     "output_type": "error",
     "traceback": [
      "\u001b[1;31m---------------------------------------------------------------------------\u001b[0m",
      "\u001b[1;31mAttributeError\u001b[0m                            Traceback (most recent call last)",
      "Cell \u001b[1;32mIn[10], line 1\u001b[0m\n\u001b[1;32m----> 1\u001b[0m \u001b[43mls\u001b[49m\u001b[38;5;241;43m.\u001b[39;49m\u001b[43mchoice\u001b[49m(ls)\n",
      "\u001b[1;31mAttributeError\u001b[0m: 'tuple' object has no attribute 'choice'"
     ]
    }
   ],
   "source": [
    "ls.choice(ls)"
   ]
  },
  {
   "cell_type": "code",
   "execution_count": 11,
   "id": "31961c2a",
   "metadata": {},
   "outputs": [
    {
     "ename": "TypeError",
     "evalue": "Random.choice() missing 1 required positional argument: 'seq'",
     "output_type": "error",
     "traceback": [
      "\u001b[1;31m---------------------------------------------------------------------------\u001b[0m",
      "\u001b[1;31mTypeError\u001b[0m                                 Traceback (most recent call last)",
      "Cell \u001b[1;32mIn[11], line 1\u001b[0m\n\u001b[1;32m----> 1\u001b[0m \u001b[43mrandom\u001b[49m\u001b[38;5;241;43m.\u001b[39;49m\u001b[43mchoice\u001b[49m\u001b[43m(\u001b[49m\u001b[43m)\u001b[49m\n",
      "\u001b[1;31mTypeError\u001b[0m: Random.choice() missing 1 required positional argument: 'seq'"
     ]
    }
   ],
   "source": [
    "random.choice()"
   ]
  },
  {
   "cell_type": "code",
   "execution_count": 12,
   "id": "c5d58610",
   "metadata": {},
   "outputs": [
    {
     "data": {
      "text/plain": [
       "'Apple'"
      ]
     },
     "execution_count": 12,
     "metadata": {},
     "output_type": "execute_result"
    }
   ],
   "source": [
    "random.choice(ls)"
   ]
  },
  {
   "cell_type": "code",
   "execution_count": 13,
   "id": "55ddf677",
   "metadata": {},
   "outputs": [
    {
     "data": {
      "text/plain": [
       "['orange']"
      ]
     },
     "execution_count": 13,
     "metadata": {},
     "output_type": "execute_result"
    }
   ],
   "source": [
    "random.choices(ls)"
   ]
  },
  {
   "cell_type": "code",
   "execution_count": 15,
   "id": "50fb429f",
   "metadata": {},
   "outputs": [
    {
     "data": {
      "text/plain": [
       "['guava', 'Apple']"
      ]
     },
     "execution_count": 15,
     "metadata": {},
     "output_type": "execute_result"
    }
   ],
   "source": [
    "random.sample(ls, 2)"
   ]
  },
  {
   "cell_type": "code",
   "execution_count": 16,
   "id": "4cbb4887",
   "metadata": {},
   "outputs": [
    {
     "data": {
      "text/plain": [
       "['orange', 'Banana', 'Apple', 'Banana']"
      ]
     },
     "execution_count": 16,
     "metadata": {},
     "output_type": "execute_result"
    }
   ],
   "source": [
    "random.choices(ls,k=4)"
   ]
  },
  {
   "cell_type": "code",
   "execution_count": 17,
   "id": "10895b93",
   "metadata": {},
   "outputs": [
    {
     "data": {
      "text/plain": [
       "['orange', 'Banana', 'Banana', 'Banana']"
      ]
     },
     "execution_count": 17,
     "metadata": {},
     "output_type": "execute_result"
    }
   ],
   "source": [
    "random.choices(ls,k=4)"
   ]
  },
  {
   "cell_type": "code",
   "execution_count": 18,
   "id": "7f0ed2f3",
   "metadata": {},
   "outputs": [],
   "source": [
    "#jumbled Game"
   ]
  },
  {
   "cell_type": "code",
   "execution_count": 19,
   "id": "8f81092e",
   "metadata": {},
   "outputs": [],
   "source": [
    "#string"
   ]
  },
  {
   "cell_type": "code",
   "execution_count": 20,
   "id": "dcd92add",
   "metadata": {},
   "outputs": [],
   "source": [
    "#Sequence of characters"
   ]
  },
  {
   "cell_type": "code",
   "execution_count": 21,
   "id": "8301baf8",
   "metadata": {},
   "outputs": [],
   "source": [
    "st = \"resistance\""
   ]
  },
  {
   "cell_type": "code",
   "execution_count": 22,
   "id": "cf92f236",
   "metadata": {},
   "outputs": [
    {
     "data": {
      "text/plain": [
       "'RESISTANCE'"
      ]
     },
     "execution_count": 22,
     "metadata": {},
     "output_type": "execute_result"
    }
   ],
   "source": [
    "st.upper()"
   ]
  },
  {
   "cell_type": "code",
   "execution_count": 23,
   "id": "a106240d",
   "metadata": {},
   "outputs": [
    {
     "data": {
      "text/plain": [
       "'resistance'"
      ]
     },
     "execution_count": 23,
     "metadata": {},
     "output_type": "execute_result"
    }
   ],
   "source": [
    "st.lower()"
   ]
  },
  {
   "cell_type": "code",
   "execution_count": 27,
   "id": "8c21f813",
   "metadata": {},
   "outputs": [
    {
     "data": {
      "text/plain": [
       "True"
      ]
     },
     "execution_count": 27,
     "metadata": {},
     "output_type": "execute_result"
    }
   ],
   "source": [
    "st.endswith('e')"
   ]
  },
  {
   "cell_type": "code",
   "execution_count": 28,
   "id": "0f62875b",
   "metadata": {},
   "outputs": [
    {
     "data": {
      "text/plain": [
       "False"
      ]
     },
     "execution_count": 28,
     "metadata": {},
     "output_type": "execute_result"
    }
   ],
   "source": [
    "st.endswith('r')"
   ]
  },
  {
   "cell_type": "code",
   "execution_count": 30,
   "id": "7665002e",
   "metadata": {},
   "outputs": [
    {
     "data": {
      "text/plain": [
       "'Resistance'"
      ]
     },
     "execution_count": 30,
     "metadata": {},
     "output_type": "execute_result"
    }
   ],
   "source": [
    "st.capitalize()"
   ]
  },
  {
   "cell_type": "code",
   "execution_count": 31,
   "id": "0843054c",
   "metadata": {},
   "outputs": [
    {
     "data": {
      "text/plain": [
       "3"
      ]
     },
     "execution_count": 31,
     "metadata": {},
     "output_type": "execute_result"
    }
   ],
   "source": [
    "st.find('i')"
   ]
  },
  {
   "cell_type": "code",
   "execution_count": 32,
   "id": "5127c3da",
   "metadata": {},
   "outputs": [
    {
     "data": {
      "text/plain": [
       "0"
      ]
     },
     "execution_count": 32,
     "metadata": {},
     "output_type": "execute_result"
    }
   ],
   "source": [
    "st.find('r')"
   ]
  },
  {
   "cell_type": "code",
   "execution_count": 33,
   "id": "d53768b1",
   "metadata": {},
   "outputs": [
    {
     "data": {
      "text/plain": [
       "1"
      ]
     },
     "execution_count": 33,
     "metadata": {},
     "output_type": "execute_result"
    }
   ],
   "source": [
    "st.find('e')"
   ]
  },
  {
   "cell_type": "code",
   "execution_count": 34,
   "id": "fe9225a3",
   "metadata": {},
   "outputs": [
    {
     "data": {
      "text/plain": [
       "'Resistance'"
      ]
     },
     "execution_count": 34,
     "metadata": {},
     "output_type": "execute_result"
    }
   ],
   "source": [
    "st.title()"
   ]
  },
  {
   "cell_type": "code",
   "execution_count": 35,
   "id": "e4c8298e",
   "metadata": {},
   "outputs": [],
   "source": [
    "st = \"Welcome to python programing\""
   ]
  },
  {
   "cell_type": "code",
   "execution_count": 37,
   "id": "779547d2",
   "metadata": {},
   "outputs": [
    {
     "data": {
      "text/plain": [
       "4"
      ]
     },
     "execution_count": 37,
     "metadata": {},
     "output_type": "execute_result"
    }
   ],
   "source": [
    "st.index('o')"
   ]
  },
  {
   "cell_type": "code",
   "execution_count": 43,
   "id": "c8efea17",
   "metadata": {},
   "outputs": [],
   "source": [
    "st = (\"             Welcome to python programing\")"
   ]
  },
  {
   "cell_type": "code",
   "execution_count": 44,
   "id": "d459b026",
   "metadata": {},
   "outputs": [
    {
     "data": {
      "text/plain": [
       "'Welcome to python programing'"
      ]
     },
     "execution_count": 44,
     "metadata": {},
     "output_type": "execute_result"
    }
   ],
   "source": [
    "st.lstrip()"
   ]
  },
  {
   "cell_type": "code",
   "execution_count": 45,
   "id": "29ad250c",
   "metadata": {},
   "outputs": [
    {
     "data": {
      "text/plain": [
       "'             Welcome to python programing'"
      ]
     },
     "execution_count": 45,
     "metadata": {},
     "output_type": "execute_result"
    }
   ],
   "source": [
    "st.rstrip()"
   ]
  },
  {
   "cell_type": "code",
   "execution_count": 47,
   "id": "75e0083d",
   "metadata": {},
   "outputs": [
    {
     "data": {
      "text/plain": [
       "['Welcome', 'to', 'python', 'programing']"
      ]
     },
     "execution_count": 47,
     "metadata": {},
     "output_type": "execute_result"
    }
   ],
   "source": [
    "st.split()"
   ]
  },
  {
   "cell_type": "code",
   "execution_count": 48,
   "id": "6e821bf9",
   "metadata": {},
   "outputs": [
    {
     "data": {
      "text/plain": [
       "'w             Welcome to python programinge             Welcome to python programingl             Welcome to python programingc             Welcome to python programingo             Welcome to python programingm             Welcome to python programinge'"
      ]
     },
     "execution_count": 48,
     "metadata": {},
     "output_type": "execute_result"
    }
   ],
   "source": [
    "st.join('welcome')"
   ]
  },
  {
   "cell_type": "code",
   "execution_count": 70,
   "id": "c0a24400",
   "metadata": {},
   "outputs": [],
   "source": [
    "words = ['boy', 'girl','sister', 'brother', 'father']"
   ]
  },
  {
   "cell_type": "code",
   "execution_count": 71,
   "id": "fa36c2a9",
   "metadata": {},
   "outputs": [
    {
     "data": {
      "text/plain": [
       "['boy', 'girl', 'sister', 'brother', 'father']"
      ]
     },
     "execution_count": 71,
     "metadata": {},
     "output_type": "execute_result"
    }
   ],
   "source": [
    "words"
   ]
  },
  {
   "cell_type": "code",
   "execution_count": 79,
   "id": "5a474fd1",
   "metadata": {},
   "outputs": [
    {
     "ename": "TypeError",
     "evalue": "Random.sample() missing 1 required positional argument: 'population'",
     "output_type": "error",
     "traceback": [
      "\u001b[1;31m---------------------------------------------------------------------------\u001b[0m",
      "\u001b[1;31mTypeError\u001b[0m                                 Traceback (most recent call last)",
      "Cell \u001b[1;32mIn[79], line 2\u001b[0m\n\u001b[0;32m      1\u001b[0m word \u001b[38;5;241m=\u001b[39m random\u001b[38;5;241m.\u001b[39mchoices(words)\n\u001b[1;32m----> 2\u001b[0m jumbled \u001b[38;5;241m=\u001b[39m \u001b[38;5;124m'\u001b[39m\u001b[38;5;124m \u001b[39m\u001b[38;5;124m'\u001b[39m\u001b[38;5;241m.\u001b[39mjoin(\u001b[43mrandom\u001b[49m\u001b[38;5;241;43m.\u001b[39;49m\u001b[43msample\u001b[49m\u001b[43m(\u001b[49m\u001b[43mk\u001b[49m\u001b[38;5;241;43m=\u001b[39;49m\u001b[38;5;241;43m3\u001b[39;49m\u001b[43m)\u001b[49m, (word))\n",
      "\u001b[1;31mTypeError\u001b[0m: Random.sample() missing 1 required positional argument: 'population'"
     ]
    }
   ],
   "source": [
    "word = random.choices(words)\n",
    "jumbled = ' '.join(random.sample(k=3), (word))"
   ]
  },
  {
   "cell_type": "code",
   "execution_count": null,
   "id": "04061602",
   "metadata": {},
   "outputs": [],
   "source": []
  },
  {
   "cell_type": "code",
   "execution_count": null,
   "id": "84d7f267",
   "metadata": {},
   "outputs": [],
   "source": []
  }
 ],
 "metadata": {
  "kernelspec": {
   "display_name": "Python 3 (ipykernel)",
   "language": "python",
   "name": "python3"
  },
  "language_info": {
   "codemirror_mode": {
    "name": "ipython",
    "version": 3
   },
   "file_extension": ".py",
   "mimetype": "text/x-python",
   "name": "python",
   "nbconvert_exporter": "python",
   "pygments_lexer": "ipython3",
   "version": "3.11.4"
  }
 },
 "nbformat": 4,
 "nbformat_minor": 5
}

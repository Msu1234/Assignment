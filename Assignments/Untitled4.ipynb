{
 "cells": [
  {
   "cell_type": "code",
   "execution_count": 1,
   "id": "2611d540",
   "metadata": {},
   "outputs": [
    {
     "name": "stdout",
     "output_type": "stream",
     "text": [
      "1\n",
      "2\n",
      "3\n",
      "4\n",
      "5\n",
      "6\n",
      "7\n",
      "8\n",
      "9\n",
      "10\n"
     ]
    }
   ],
   "source": [
    "#write a program to find sum of n numbers\n",
    "i = 1\n",
    "while(i<=10):\n",
    "    print(i) \n",
    "    i=i+1"
   ]
  },
  {
   "cell_type": "code",
   "execution_count": 2,
   "id": "f21ea4a6",
   "metadata": {},
   "outputs": [
    {
     "name": "stdout",
     "output_type": "stream",
     "text": [
      "sum of numbers are : 5\n"
     ]
    }
   ],
   "source": [
    "i=1\n",
    "sum_of_numbers = 0\n",
    "while(i<=5):\n",
    "    sum_of_numbers = sum_of_numbers + 1\n",
    "    i=i+1\n",
    "print(f'sum of numbers are : {sum_of_numbers}')    "
   ]
  },
  {
   "cell_type": "code",
   "execution_count": 5,
   "id": "04c51709",
   "metadata": {},
   "outputs": [
    {
     "name": "stdout",
     "output_type": "stream",
     "text": [
      "sum of numbers are = 5\n"
     ]
    }
   ],
   "source": [
    "i=1\n",
    "sum_of_numbers = 0\n",
    "while(i<=5):\n",
    "    if(1%2==1):\n",
    "        sum_of_numbers = sum_of_numbers + 1\n",
    "        i=i+1\n",
    "print(f'sum of numbers are = {sum_of_numbers}')        "
   ]
  },
  {
   "cell_type": "code",
   "execution_count": 7,
   "id": "3d14d7a6",
   "metadata": {},
   "outputs": [],
   "source": [
    " #Write a program to print reverse sum of digits :\n"
   ]
  },
  {
   "cell_type": "code",
   "execution_count": 8,
   "id": "80e910cd",
   "metadata": {},
   "outputs": [
    {
     "name": "stdout",
     "output_type": "stream",
     "text": [
      "Enter the number :123\n",
      "sum of digits are = 6\n"
     ]
    }
   ],
   "source": [
    "num = int(input(\"Enter the number :\"))\n",
    "sum_of_digits = 0\n",
    "rem = 0\n",
    "while(num>0):\n",
    "    rem = num % 10\n",
    "    sum_of_digits = sum_of_digits + rem\n",
    "    num = num // 10\n",
    "print(f'sum of digits are = {sum_of_digits}')   "
   ]
  },
  {
   "cell_type": "code",
   "execution_count": 11,
   "id": "b4a408b9",
   "metadata": {},
   "outputs": [
    {
     "name": "stdout",
     "output_type": "stream",
     "text": [
      "Enter the number: 122\n",
      "rev of number is = 221\n"
     ]
    }
   ],
   "source": [
    "#Reverse the number\n",
    "num = int(input(\"Enter the number: \"))\n",
    "rev_of_number = 0\n",
    "rem = 0\n",
    "while(num>0):\n",
    "    rem = num % 10\n",
    "    rev_of_number = rev_of_number *10 + rem\n",
    "    num = num // 10\n",
    "print(f'rev of number is = {rev_of_number}')"
   ]
  },
  {
   "cell_type": "code",
   "execution_count": null,
   "id": "b6106096",
   "metadata": {},
   "outputs": [],
   "source": []
  }
 ],
 "metadata": {
  "kernelspec": {
   "display_name": "Python 3 (ipykernel)",
   "language": "python",
   "name": "python3"
  },
  "language_info": {
   "codemirror_mode": {
    "name": "ipython",
    "version": 3
   },
   "file_extension": ".py",
   "mimetype": "text/x-python",
   "name": "python",
   "nbconvert_exporter": "python",
   "pygments_lexer": "ipython3",
   "version": "3.11.4"
  }
 },
 "nbformat": 4,
 "nbformat_minor": 5
}

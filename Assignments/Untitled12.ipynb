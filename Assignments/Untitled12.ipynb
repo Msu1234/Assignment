{
 "cells": [
  {
   "cell_type": "code",
   "execution_count": 1,
   "id": "8d065088",
   "metadata": {},
   "outputs": [],
   "source": [
    "#string"
   ]
  },
  {
   "cell_type": "code",
   "execution_count": 2,
   "id": "c66f5aee",
   "metadata": {},
   "outputs": [],
   "source": [
    "#dictionary"
   ]
  },
  {
   "cell_type": "code",
   "execution_count": 5,
   "id": "1e9aa283",
   "metadata": {},
   "outputs": [
    {
     "ename": "SyntaxError",
     "evalue": "invalid syntax (1974698158.py, line 4)",
     "output_type": "error",
     "traceback": [
      "\u001b[1;36m  Cell \u001b[1;32mIn[5], line 4\u001b[1;36m\u001b[0m\n\u001b[1;33m    dict=[\"Cat\", \"Cats\",and, \"sand\",\"dog\"]:\u001b[0m\n\u001b[1;37m                        ^\u001b[0m\n\u001b[1;31mSyntaxError\u001b[0m\u001b[1;31m:\u001b[0m invalid syntax\n"
     ]
    }
   ],
   "source": [
    "string = s\n",
    "dictionary = dict\n",
    "s=(\"catsanddog\")\n",
    "dict=[\"Cat\",\"Cats\",and, \"sand\",\"dog\"]:"
   ]
  },
  {
   "cell_type": "code",
   "execution_count": 6,
   "id": "cce117b1",
   "metadata": {},
   "outputs": [],
   "source": [
    "#sequence of characters"
   ]
  },
  {
   "cell_type": "code",
   "execution_count": 8,
   "id": "ae168093",
   "metadata": {},
   "outputs": [],
   "source": [
    "st = \"s\""
   ]
  },
  {
   "cell_type": "code",
   "execution_count": 10,
   "id": "4fd5dfac",
   "metadata": {},
   "outputs": [
    {
     "data": {
      "text/plain": [
       "dict"
      ]
     },
     "execution_count": 10,
     "metadata": {},
     "output_type": "execute_result"
    }
   ],
   "source": [
    "dict"
   ]
  },
  {
   "cell_type": "code",
   "execution_count": 12,
   "id": "5d796615",
   "metadata": {},
   "outputs": [
    {
     "data": {
      "text/plain": [
       "<function str.startswith>"
      ]
     },
     "execution_count": 12,
     "metadata": {},
     "output_type": "execute_result"
    }
   ],
   "source": [
    "st.startswith"
   ]
  },
  {
   "cell_type": "code",
   "execution_count": 17,
   "id": "9e80b2f9",
   "metadata": {},
   "outputs": [
    {
     "data": {
      "text/plain": [
       "<function str.isspace()>"
      ]
     },
     "execution_count": 17,
     "metadata": {},
     "output_type": "execute_result"
    }
   ],
   "source": [
    "st.isspace"
   ]
  },
  {
   "cell_type": "code",
   "execution_count": 18,
   "id": "cec785f8",
   "metadata": {},
   "outputs": [
    {
     "data": {
      "text/plain": [
       "<function str.isspace()>"
      ]
     },
     "execution_count": 18,
     "metadata": {},
     "output_type": "execute_result"
    }
   ],
   "source": [
    "st.isspace"
   ]
  },
  {
   "cell_type": "code",
   "execution_count": 25,
   "id": "65825336",
   "metadata": {},
   "outputs": [
    {
     "name": "stdout",
     "output_type": "stream",
     "text": [
      "['cats and dog', 'cat sand dog ']\n"
     ]
    }
   ],
   "source": [
    "s = \"catsanddog\"\n",
    "dict = [\"Cat\",\"Cats\",\"and\",\"sand\",\"dog\"]\n",
    "result = [\"cats and dog\", \"cat sand dog \"]\n",
    "print(result)"
   ]
  },
  {
   "cell_type": "code",
   "execution_count": 35,
   "id": "503a966e",
   "metadata": {},
   "outputs": [
    {
     "data": {
      "text/plain": [
       "<function list.append(object, /)>"
      ]
     },
     "execution_count": 35,
     "metadata": {},
     "output_type": "execute_result"
    }
   ],
   "source": [
    "dict.append \n"
   ]
  },
  {
   "cell_type": "code",
   "execution_count": null,
   "id": "cef31d40",
   "metadata": {},
   "outputs": [],
   "source": []
  }
 ],
 "metadata": {
  "kernelspec": {
   "display_name": "Python 3 (ipykernel)",
   "language": "python",
   "name": "python3"
  },
  "language_info": {
   "codemirror_mode": {
    "name": "ipython",
    "version": 3
   },
   "file_extension": ".py",
   "mimetype": "text/x-python",
   "name": "python",
   "nbconvert_exporter": "python",
   "pygments_lexer": "ipython3",
   "version": "3.11.4"
  }
 },
 "nbformat": 4,
 "nbformat_minor": 5
}

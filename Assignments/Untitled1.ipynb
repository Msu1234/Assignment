{
 "cells": [
  {
   "cell_type": "code",
   "execution_count": 1,
   "id": "d2990903",
   "metadata": {},
   "outputs": [],
   "source": [
    "#a = 60\n",
    "#b = 50\n",
    "\n",
    "#o/p -\n",
    "#a = 50\n",
    "#b = 60"
   ]
  },
  {
   "cell_type": "code",
   "execution_count": 2,
   "id": "681a4c07",
   "metadata": {},
   "outputs": [
    {
     "ename": "SyntaxError",
     "evalue": "unterminated string literal (detected at line 1) (2796753688.py, line 1)",
     "output_type": "error",
     "traceback": [
      "\u001b[1;36m  Cell \u001b[1;32mIn[2], line 1\u001b[1;36m\u001b[0m\n\u001b[1;33m    numb1 = int(input\"Enter first number: \"\"))\u001b[0m\n\u001b[1;37m                                           ^\u001b[0m\n\u001b[1;31mSyntaxError\u001b[0m\u001b[1;31m:\u001b[0m unterminated string literal (detected at line 1)\n"
     ]
    }
   ],
   "source": [
    "numb1 = int(input(\"Enter first number: \"))\n",
    "numb2 = int(input(\"Enter second number :\"))\n",
    "temp = 0\n",
    "temp = numb1\n",
    "numb1 = numb2\n",
    "numb2 = temp\n",
    "print(f'swapped number is : \"{numb1} and {numb2}\" ))            "
   ]
  },
  {
   "cell_type": "code",
   "execution_count": 6,
   "id": "a11cec0c",
   "metadata": {},
   "outputs": [
    {
     "name": "stdout",
     "output_type": "stream",
     "text": [
      "Enter first number: 25\n",
      "Enter second number :33\n",
      "swapped number is : 33 and 25\n"
     ]
    }
   ],
   "source": [
    "numb1 = int(input(\"Enter first number: \"))\n",
    "numb2 = int(input(\"Enter second number :\"))\n",
    "temp = 0\n",
    "temp = numb1\n",
    "numb1 = numb2\n",
    "numb2 = temp\n",
    "print(f'swapped number is : {numb1} and {numb2}')"
   ]
  },
  {
   "cell_type": "code",
   "execution_count": 16,
   "id": "fb2bcdc3",
   "metadata": {},
   "outputs": [
    {
     "name": "stdout",
     "output_type": "stream",
     "text": [
      "Enter first number: 66\n",
      "Enter second number :33\n",
      "swapped number is : 33 and 66\n"
     ]
    }
   ],
   "source": [
    "numb1 = int(input(\"Enter first number: \"))\n",
    "numb2 = int(input(\"Enter second number :\"))\n",
    "numb2 = numb1 + numb2 \n",
    "numb1 = numb2 - numb1\n",
    "numb2 = numb2 - numb1\n",
    "\n",
    "print(f'swapped number is : {numb1} and {numb2}')"
   ]
  },
  {
   "cell_type": "code",
   "execution_count": 17,
   "id": "f2294f93",
   "metadata": {},
   "outputs": [
    {
     "ename": "SyntaxError",
     "evalue": "invalid syntax. Perhaps you forgot a comma? (4283297017.py, line 1)",
     "output_type": "error",
     "traceback": [
      "\u001b[1;36m  Cell \u001b[1;32mIn[17], line 1\u001b[1;36m\u001b[0m\n\u001b[1;33m    ll = int(int(input( \"Enter the lower limit :\"))\u001b[0m\n\u001b[1;37m             ^\u001b[0m\n\u001b[1;31mSyntaxError\u001b[0m\u001b[1;31m:\u001b[0m invalid syntax. Perhaps you forgot a comma?\n"
     ]
    }
   ],
   "source": [
    "ll = int(int(input( \"Enter the lower limit :\"))\n",
    "Ul = int(int(input(\"Enter the upper limit\" :))         \n",
    "random_number = random.randint(ll, ul)\n",
    "guesses = 0\n",
    "while(guesses < 5):\n",
    "         guess = int(input(\"Enter your choice\"))\n",
    "         if(random_number == guess):\n",
    "         print(\"you are winner!!\")\n",
    "         break\n",
    "     elif(guess < random_number):\n",
    "         print(\"you have entered less number\")\n",
    "         guesses = guesses + 1\n",
    "     elif(guess > random_number):\n",
    "         print(\"you have entered greater number\")\n",
    "         guesses = guesses + 1\n",
    "     else:\n",
    "         print(\"wrong format\")\n",
    "     if(guesses == 5):\n",
    "         print(\"beta tumsa na ho payega\")\n",
    "         print(random number)"
   ]
  },
  {
   "cell_type": "code",
   "execution_count": null,
   "id": "b0f8ba3c",
   "metadata": {},
   "outputs": [],
   "source": []
  }
 ],
 "metadata": {
  "kernelspec": {
   "display_name": "Python 3 (ipykernel)",
   "language": "python",
   "name": "python3"
  },
  "language_info": {
   "codemirror_mode": {
    "name": "ipython",
    "version": 3
   },
   "file_extension": ".py",
   "mimetype": "text/x-python",
   "name": "python",
   "nbconvert_exporter": "python",
   "pygments_lexer": "ipython3",
   "version": "3.11.4"
  }
 },
 "nbformat": 4,
 "nbformat_minor": 5
}

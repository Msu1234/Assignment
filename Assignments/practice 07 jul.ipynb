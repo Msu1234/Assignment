{
 "cells": [
  {
   "cell_type": "code",
   "execution_count": 24,
   "id": "8d6eb577",
   "metadata": {},
   "outputs": [
    {
     "ename": "SyntaxError",
     "evalue": "invalid syntax (3797871436.py, line 15)",
     "output_type": "error",
     "traceback": [
      "\u001b[1;36m  Cell \u001b[1;32mIn[24], line 15\u001b[1;36m\u001b[0m\n\u001b[1;33m    elif(choice == 'female'):\u001b[0m\n\u001b[1;37m    ^\u001b[0m\n\u001b[1;31mSyntaxError\u001b[0m\u001b[1;31m:\u001b[0m invalid syntax\n"
     ]
    }
   ],
   "source": [
    "while true:\n",
    "    choice = input(\"Enter the choice: male/female :\")\n",
    "    if (choice == \"male\"):\n",
    "        print(\"you are male\")\n",
    "    age = int(input(\"Enter the age :\"))\n",
    "    if(age<25):\n",
    "        print(\"your age is less than 25 \")\n",
    "        percentage = 21\n",
    "    elif(age>=25):\n",
    "        print(\"your age is greater than 25 \")\n",
    "        percentage = 10\n",
    "    else:\n",
    "        print(\"Wrong format\")\n",
    "        \n",
    "    elif(choice == 'female'):\n",
    "        print(\"you are female\")\n",
    "        sports = input(\"Enter your choice : sports/ non sports :\")\n",
    "        sports = sports.lower()\n",
    "if(sports == \"sports\"):\n",
    "        print(\"you like sports car \")\n",
    "        percentage = 23\n",
    "elif(sports == \"non sports \"):\n",
    "        print(\"you dont like sports car\")\n",
    "        percentage =12\n",
    "else:\n",
    "        print(\"Wrong format\")\n",
    "        break\n",
    "    "
   ]
  },
  {
   "cell_type": "code",
   "execution_count": null,
   "id": "0e5193cb",
   "metadata": {},
   "outputs": [],
   "source": []
  }
 ],
 "metadata": {
  "kernelspec": {
   "display_name": "Python 3 (ipykernel)",
   "language": "python",
   "name": "python3"
  },
  "language_info": {
   "codemirror_mode": {
    "name": "ipython",
    "version": 3
   },
   "file_extension": ".py",
   "mimetype": "text/x-python",
   "name": "python",
   "nbconvert_exporter": "python",
   "pygments_lexer": "ipython3",
   "version": "3.11.4"
  }
 },
 "nbformat": 4,
 "nbformat_minor": 5
}

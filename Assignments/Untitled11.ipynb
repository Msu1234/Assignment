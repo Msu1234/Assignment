{
 "cells": [
  {
   "cell_type": "code",
   "execution_count": null,
   "id": "76fb8bd8",
   "metadata": {},
   "outputs": [],
   "source": [
    "while(True):\n",
    "    choice = input(\"Enter your choice : male/female: \")\n",
    "    if(choice == \"male\"):\n",
    "        print(\"You are male\")\n",
    "        age = int(input(\"Enter your age :\")\n",
    "        if(age<26):\n",
    "               print(\"your age is less than 26 years :\")\n",
    "               percentage = 21\n",
    "        elif(age>26):\n",
    "               print(\"You are greather than 26 years :\")\n",
    "               percentage = 10\n",
    "        else:\n",
    "               print(\"wrong format\")\n",
    "        \n",
    "        elif(choice == \"female\"):\n",
    "            print(\"you are female\")\n",
    "                  \n",
    "             "
   ]
  }
 ],
 "metadata": {
  "kernelspec": {
   "display_name": "Python 3 (ipykernel)",
   "language": "python",
   "name": "python3"
  },
  "language_info": {
   "codemirror_mode": {
    "name": "ipython",
    "version": 3
   },
   "file_extension": ".py",
   "mimetype": "text/x-python",
   "name": "python",
   "nbconvert_exporter": "python",
   "pygments_lexer": "ipython3",
   "version": "3.11.4"
  }
 },
 "nbformat": 4,
 "nbformat_minor": 5
}

{
 "cells": [
  {
   "cell_type": "code",
   "execution_count": 1,
   "id": "e0515014",
   "metadata": {},
   "outputs": [],
   "source": [
    "#Write a program which states that number 3 & 6 is divisible "
   ]
  },
  {
   "cell_type": "code",
   "execution_count": 8,
   "id": "989b2310",
   "metadata": {},
   "outputs": [
    {
     "name": "stdout",
     "output_type": "stream",
     "text": [
      "Enter the number :12\n",
      "Number is divisible\n"
     ]
    }
   ],
   "source": [
    "number = int(input(\"Enter the number :\"))\n",
    "if(number%3==0 and number %6==0):\n",
    "    print(\"Number is divisible\")\n",
    "else:\n",
    "    print(\"Not Divisible\")\n",
    "        "
   ]
  },
  {
   "cell_type": "code",
   "execution_count": 27,
   "id": "0102d68c",
   "metadata": {},
   "outputs": [
    {
     "name": "stdout",
     "output_type": "stream",
     "text": [
      "Enter the first number :10\n",
      "Enter the second number :10\n",
      "Enter the third number :10\n",
      "Megha\n"
     ]
    }
   ],
   "source": [
    "num1 = int(input(\"Enter the first number :\"))\n",
    "num2 = int(input(\"Enter the second number :\"))\n",
    "num3 = int(input(\"Enter the third number :\"))\n",
    "if(num1 + num2 + num3 == 30):\n",
    "    print(\"Megha\")\n",
    "        \n",
    "    "
   ]
  },
  {
   "cell_type": "code",
   "execution_count": 29,
   "id": "59d13644",
   "metadata": {},
   "outputs": [],
   "source": [
    "#from math import"
   ]
  },
  {
   "cell_type": "code",
   "execution_count": 32,
   "id": "70d013d7",
   "metadata": {},
   "outputs": [
    {
     "name": "stdout",
     "output_type": "stream",
     "text": [
      "151661\n"
     ]
    }
   ],
   "source": [
    "x=156660\n",
    "y=4999\n",
    "\n",
    "print(x-y)"
   ]
  },
  {
   "cell_type": "code",
   "execution_count": 33,
   "id": "1b5004c3",
   "metadata": {},
   "outputs": [],
   "source": [
    "#Exceptions"
   ]
  },
  {
   "cell_type": "code",
   "execution_count": 35,
   "id": "d346ce72",
   "metadata": {},
   "outputs": [
    {
     "ename": "NameError",
     "evalue": "name 'typeerror' is not defined",
     "output_type": "error",
     "traceback": [
      "\u001b[1;31m---------------------------------------------------------------------------\u001b[0m",
      "\u001b[1;31mNameError\u001b[0m                                 Traceback (most recent call last)",
      "Cell \u001b[1;32mIn[35], line 2\u001b[0m\n\u001b[0;32m      1\u001b[0m \u001b[38;5;28;01mtry\u001b[39;00m :\n\u001b[1;32m----> 2\u001b[0m     \u001b[38;5;241m25\u001b[39m\u001b[38;5;241m+\u001b[39m \u001b[43mhello\u001b[49m\n\u001b[0;32m      3\u001b[0m \u001b[38;5;28;01mexcept\u001b[39;00m typeerror \u001b[38;5;28;01mas\u001b[39;00m f:\n",
      "\u001b[1;31mNameError\u001b[0m: name 'hello' is not defined",
      "\nDuring handling of the above exception, another exception occurred:\n",
      "\u001b[1;31mNameError\u001b[0m                                 Traceback (most recent call last)",
      "Cell \u001b[1;32mIn[35], line 3\u001b[0m\n\u001b[0;32m      1\u001b[0m \u001b[38;5;28;01mtry\u001b[39;00m :\n\u001b[0;32m      2\u001b[0m     \u001b[38;5;241m25\u001b[39m\u001b[38;5;241m+\u001b[39m hello\n\u001b[1;32m----> 3\u001b[0m \u001b[38;5;28;01mexcept\u001b[39;00m \u001b[43mtypeerror\u001b[49m \u001b[38;5;28;01mas\u001b[39;00m f:\n\u001b[0;32m      4\u001b[0m     \u001b[38;5;28mprint\u001b[39m(f)\n\u001b[0;32m      5\u001b[0m \u001b[38;5;28;01melse\u001b[39;00m:\n",
      "\u001b[1;31mNameError\u001b[0m: name 'typeerror' is not defined"
     ]
    }
   ],
   "source": [
    "try :\n",
    "    25+ hello\n",
    "except typeerror as f:\n",
    "    print(f)\n",
    "else:\n",
    "    print(\"Monu\")"
   ]
  },
  {
   "cell_type": "code",
   "execution_count": 36,
   "id": "f3ae0798",
   "metadata": {},
   "outputs": [
    {
     "name": "stdout",
     "output_type": "stream",
     "text": [
      "hello\n"
     ]
    }
   ],
   "source": [
    "ls ={20,23,24}\n",
    "print(\"hello\")"
   ]
  },
  {
   "cell_type": "code",
   "execution_count": 37,
   "id": "58a703a9",
   "metadata": {},
   "outputs": [
    {
     "ename": "TypeError",
     "evalue": "'set' object is not subscriptable",
     "output_type": "error",
     "traceback": [
      "\u001b[1;31m---------------------------------------------------------------------------\u001b[0m",
      "\u001b[1;31mTypeError\u001b[0m                                 Traceback (most recent call last)",
      "Cell \u001b[1;32mIn[37], line 1\u001b[0m\n\u001b[1;32m----> 1\u001b[0m \u001b[43mls\u001b[49m\u001b[43m[\u001b[49m\u001b[38;5;241;43m4\u001b[39;49m\u001b[43m]\u001b[49m\n",
      "\u001b[1;31mTypeError\u001b[0m: 'set' object is not subscriptable"
     ]
    }
   ],
   "source": [
    "ls[4]"
   ]
  },
  {
   "cell_type": "code",
   "execution_count": 40,
   "id": "b83b40ff",
   "metadata": {},
   "outputs": [
    {
     "name": "stdout",
     "output_type": "stream",
     "text": [
      "q\n",
      "monu\n"
     ]
    }
   ],
   "source": [
    "try :\n",
    "    ls[5]\n",
    "except TypeError as q:\n",
    "    print(\"q\")\n",
    "print(\"monu\")"
   ]
  },
  {
   "cell_type": "code",
   "execution_count": 45,
   "id": "f2282483",
   "metadata": {},
   "outputs": [
    {
     "name": "stdout",
     "output_type": "stream",
     "text": [
      "'set' object is not subscriptable\n",
      "monu\n"
     ]
    }
   ],
   "source": [
    "try:\n",
    "    ls[4]\n",
    "except TypeError as c:\n",
    "    print(c)\n",
    "print(\"monu\") "
   ]
  },
  {
   "cell_type": "code",
   "execution_count": null,
   "id": "1629ae7d",
   "metadata": {},
   "outputs": [],
   "source": []
  }
 ],
 "metadata": {
  "kernelspec": {
   "display_name": "Python 3 (ipykernel)",
   "language": "python",
   "name": "python3"
  },
  "language_info": {
   "codemirror_mode": {
    "name": "ipython",
    "version": 3
   },
   "file_extension": ".py",
   "mimetype": "text/x-python",
   "name": "python",
   "nbconvert_exporter": "python",
   "pygments_lexer": "ipython3",
   "version": "3.11.4"
  }
 },
 "nbformat": 4,
 "nbformat_minor": 5
}

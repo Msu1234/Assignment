{
 "cells": [
  {
   "cell_type": "code",
   "execution_count": 2,
   "id": "3c98445b",
   "metadata": {},
   "outputs": [
    {
     "ename": "NameError",
     "evalue": "name 'peri' is not defined",
     "output_type": "error",
     "traceback": [
      "\u001b[1;31m---------------------------------------------------------------------------\u001b[0m",
      "\u001b[1;31mNameError\u001b[0m                                 Traceback (most recent call last)",
      "Cell \u001b[1;32mIn[2], line 15\u001b[0m\n\u001b[0;32m     12\u001b[0m     \u001b[38;5;28mprint\u001b[39m(\u001b[38;5;124mf\u001b[39m\u001b[38;5;124m'\u001b[39m\u001b[38;5;124marea of rectangle is \u001b[39m\u001b[38;5;132;01m{\u001b[39;00marea\u001b[38;5;132;01m}\u001b[39;00m\u001b[38;5;124m'\u001b[39m)\n\u001b[0;32m     14\u001b[0m obj \u001b[38;5;241m=\u001b[39m Rectangle(\u001b[38;5;241m25\u001b[39m,\u001b[38;5;241m30\u001b[39m)\n\u001b[1;32m---> 15\u001b[0m obj \u001b[38;5;241m=\u001b[39m perimeter(\u001b[43mperi\u001b[49m)\n\u001b[0;32m     16\u001b[0m obj \u001b[38;5;241m=\u001b[39m area()\n",
      "\u001b[1;31mNameError\u001b[0m: name 'peri' is not defined"
     ]
    }
   ],
   "source": [
    "class Rectangle:\n",
    "    def __init__(self, length, width):\n",
    "        self.length =length\n",
    "        self.width =width\n",
    "\n",
    "def perimeter(self):\n",
    "    peri = 2*(self.length + self.width)\n",
    "    print(f'perimeter of rectangle is {peri}')\n",
    "\n",
    "def area(self):\n",
    "    area = self.length * self.width\n",
    "    print(f'area of rectangle is {area}')\n",
    "\n",
    "obj = Rectangle(25,30)\n",
    "obj = perimeter()\n",
    "obj = area()"
   ]
  },
  {
   "cell_type": "code",
   "execution_count": null,
   "id": "f74b4905",
   "metadata": {},
   "outputs": [],
   "source": []
  }
 ],
 "metadata": {
  "kernelspec": {
   "display_name": "Python 3 (ipykernel)",
   "language": "python",
   "name": "python3"
  },
  "language_info": {
   "codemirror_mode": {
    "name": "ipython",
    "version": 3
   },
   "file_extension": ".py",
   "mimetype": "text/x-python",
   "name": "python",
   "nbconvert_exporter": "python",
   "pygments_lexer": "ipython3",
   "version": "3.11.4"
  }
 },
 "nbformat": 4,
 "nbformat_minor": 5
}

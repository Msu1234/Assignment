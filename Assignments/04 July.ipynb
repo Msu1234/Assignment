{
 "cells": [
  {
   "cell_type": "code",
   "execution_count": 5,
   "id": "df9f8b64",
   "metadata": {},
   "outputs": [
    {
     "name": "stdout",
     "output_type": "stream",
     "text": [
      "Enter the number :6\n",
      "Number is divisible by 3 and 6\n"
     ]
    }
   ],
   "source": [
    "number = int(input(\"Enter the number :\" ))\n",
    "if (number%3 ==0 and number %6 ==0):\n",
    "    print(\"Number is divisible by 3 and 6\")\n",
    "else:\n",
    "    print(\"Not divisible\")"
   ]
  },
  {
   "cell_type": "code",
   "execution_count": 6,
   "id": "75f95b64",
   "metadata": {},
   "outputs": [],
   "source": [
    "#Data types :\n",
    "#Operators :\n",
    "#Looping :\n",
    "#modules : random, math\n"
   ]
  },
  {
   "cell_type": "code",
   "execution_count": 7,
   "id": "33601236",
   "metadata": {},
   "outputs": [],
   "source": [
    "#Exceptions :"
   ]
  },
  {
   "cell_type": "code",
   "execution_count": 8,
   "id": "bf23c281",
   "metadata": {},
   "outputs": [
    {
     "name": "stdout",
     "output_type": "stream",
     "text": [
      "Enter first number :25\n",
      "Enter second number :5\n",
      "5.0\n",
      "Hello world\n",
      "Welcome to python\n"
     ]
    }
   ],
   "source": [
    "num1 = int(input(\"Enter first number :\"))\n",
    "num2 = int(input(\"Enter second number :\"))\n",
    "res = num1/ num2\n",
    "print(res)\n",
    "\n",
    "print(\"Hello world\")\n",
    "\n",
    "print(\"Welcome to python\")"
   ]
  },
  {
   "cell_type": "code",
   "execution_count": 9,
   "id": "867eb5d0",
   "metadata": {},
   "outputs": [
    {
     "name": "stdout",
     "output_type": "stream",
     "text": [
      "Enter first number :25\n",
      "Enter second number :0\n"
     ]
    },
    {
     "ename": "ZeroDivisionError",
     "evalue": "division by zero",
     "output_type": "error",
     "traceback": [
      "\u001b[1;31m---------------------------------------------------------------------------\u001b[0m",
      "\u001b[1;31mZeroDivisionError\u001b[0m                         Traceback (most recent call last)",
      "Cell \u001b[1;32mIn[9], line 3\u001b[0m\n\u001b[0;32m      1\u001b[0m num1 \u001b[38;5;241m=\u001b[39m \u001b[38;5;28mint\u001b[39m(\u001b[38;5;28minput\u001b[39m(\u001b[38;5;124m\"\u001b[39m\u001b[38;5;124mEnter first number :\u001b[39m\u001b[38;5;124m\"\u001b[39m))\n\u001b[0;32m      2\u001b[0m num2 \u001b[38;5;241m=\u001b[39m \u001b[38;5;28mint\u001b[39m(\u001b[38;5;28minput\u001b[39m(\u001b[38;5;124m\"\u001b[39m\u001b[38;5;124mEnter second number :\u001b[39m\u001b[38;5;124m\"\u001b[39m))\n\u001b[1;32m----> 3\u001b[0m res \u001b[38;5;241m=\u001b[39m \u001b[43mnum1\u001b[49m\u001b[38;5;241;43m/\u001b[39;49m\u001b[43m \u001b[49m\u001b[43mnum2\u001b[49m\n\u001b[0;32m      4\u001b[0m \u001b[38;5;28mprint\u001b[39m(res)\n\u001b[0;32m      6\u001b[0m \u001b[38;5;28mprint\u001b[39m(\u001b[38;5;124m\"\u001b[39m\u001b[38;5;124mHello world\u001b[39m\u001b[38;5;124m\"\u001b[39m)\n",
      "\u001b[1;31mZeroDivisionError\u001b[0m: division by zero"
     ]
    }
   ],
   "source": [
    "num1 = int(input(\"Enter first number :\"))\n",
    "num2 = int(input(\"Enter second number :\"))\n",
    "res = num1/ num2\n",
    "print(res)\n",
    "\n",
    "print(\"Hello world\")\n",
    "\n",
    "print(\"Welcome to python\")"
   ]
  },
  {
   "cell_type": "code",
   "execution_count": 10,
   "id": "c6329a20",
   "metadata": {},
   "outputs": [
    {
     "name": "stdout",
     "output_type": "stream",
     "text": [
      " Volume in drive C has no label.\n",
      " Volume Serial Number is 722C-2754\n",
      "\n",
      " Directory of C:\\Users\\dell\\Documents\n",
      "\n"
     ]
    },
    {
     "name": "stderr",
     "output_type": "stream",
     "text": [
      "File Not Found\n"
     ]
    }
   ],
   "source": [
    "ls[4]"
   ]
  },
  {
   "cell_type": "code",
   "execution_count": 11,
   "id": "895f2239",
   "metadata": {},
   "outputs": [
    {
     "name": "stdout",
     "output_type": "stream",
     "text": [
      "Hello world\n"
     ]
    }
   ],
   "source": [
    "ls =[25,26,27]\n",
    "print(\"Hello world\")"
   ]
  },
  {
   "cell_type": "code",
   "execution_count": 12,
   "id": "26179ea0",
   "metadata": {},
   "outputs": [
    {
     "ename": "IndexError",
     "evalue": "list index out of range",
     "output_type": "error",
     "traceback": [
      "\u001b[1;31m---------------------------------------------------------------------------\u001b[0m",
      "\u001b[1;31mIndexError\u001b[0m                                Traceback (most recent call last)",
      "Cell \u001b[1;32mIn[12], line 1\u001b[0m\n\u001b[1;32m----> 1\u001b[0m \u001b[43mls\u001b[49m\u001b[43m[\u001b[49m\u001b[38;5;241;43m5\u001b[39;49m\u001b[43m]\u001b[49m\n",
      "\u001b[1;31mIndexError\u001b[0m: list index out of range"
     ]
    }
   ],
   "source": [
    "ls[5]"
   ]
  },
  {
   "cell_type": "code",
   "execution_count": 13,
   "id": "eb6bcebe",
   "metadata": {},
   "outputs": [
    {
     "ename": "NameError",
     "evalue": "name 's' is not defined",
     "output_type": "error",
     "traceback": [
      "\u001b[1;31m---------------------------------------------------------------------------\u001b[0m",
      "\u001b[1;31mNameError\u001b[0m                                 Traceback (most recent call last)",
      "Cell \u001b[1;32mIn[13], line 1\u001b[0m\n\u001b[1;32m----> 1\u001b[0m \u001b[38;5;28mprint\u001b[39m(\u001b[43ms\u001b[49m)\n",
      "\u001b[1;31mNameError\u001b[0m: name 's' is not defined"
     ]
    }
   ],
   "source": [
    "print(s)"
   ]
  },
  {
   "cell_type": "code",
   "execution_count": 21,
   "id": "b3a80171",
   "metadata": {},
   "outputs": [
    {
     "ename": "TypeError",
     "evalue": "unsupported operand type(s) for +: 'int' and 'str'",
     "output_type": "error",
     "traceback": [
      "\u001b[1;31m---------------------------------------------------------------------------\u001b[0m",
      "\u001b[1;31mTypeError\u001b[0m                                 Traceback (most recent call last)",
      "Cell \u001b[1;32mIn[21], line 1\u001b[0m\n\u001b[1;32m----> 1\u001b[0m \u001b[38;5;241;43m25\u001b[39;49m\u001b[38;5;241;43m+\u001b[39;49m\u001b[43m \u001b[49m\u001b[38;5;124;43m\"\u001b[39;49m\u001b[38;5;124;43mhello\u001b[39;49m\u001b[38;5;124;43m\"\u001b[39;49m\n",
      "\u001b[1;31mTypeError\u001b[0m: unsupported operand type(s) for +: 'int' and 'str'"
     ]
    }
   ],
   "source": [
    "25+ \"hello\"\n"
   ]
  },
  {
   "cell_type": "code",
   "execution_count": 14,
   "id": "e67bc0fc",
   "metadata": {},
   "outputs": [
    {
     "name": "stdout",
     "output_type": "stream",
     "text": [
      "unsupported operand type(s) for +: 'int' and 'str'\n",
      "Welcome to python\n"
     ]
    }
   ],
   "source": [
    "try :\n",
    "    25+ \"hello\"\n",
    "except TypeError as e:\n",
    "    print(e)\n",
    "print(\"Welcome to python\")\n",
    "    "
   ]
  },
  {
   "cell_type": "code",
   "execution_count": 16,
   "id": "7bbe726e",
   "metadata": {},
   "outputs": [
    {
     "name": "stdout",
     "output_type": "stream",
     "text": [
      "integer modulo by zero\n",
      "monu\n"
     ]
    }
   ],
   "source": [
    "try :\n",
    "    number%0\n",
    "except ZeroDivisionError as a:\n",
    "    print(a)\n",
    "print(\"monu\")"
   ]
  },
  {
   "cell_type": "code",
   "execution_count": 18,
   "id": "d58ce5f9",
   "metadata": {},
   "outputs": [
    {
     "name": "stdout",
     "output_type": "stream",
     "text": [
      "list index out of range\n",
      "monu\n"
     ]
    }
   ],
   "source": [
    "try :\n",
    "     ls[5]\n",
    "except IndexError as b:\n",
    "    print(b)\n",
    "print(\"monu\")"
   ]
  },
  {
   "cell_type": "code",
   "execution_count": 19,
   "id": "883b540e",
   "metadata": {},
   "outputs": [
    {
     "name": "stdout",
     "output_type": "stream",
     "text": [
      "name 's' is not defined\n",
      "monu\n"
     ]
    }
   ],
   "source": [
    "try :\n",
    "    print(s)\n",
    "except NameError as c:\n",
    "    print(c)\n",
    "print(\"monu\")"
   ]
  },
  {
   "cell_type": "code",
   "execution_count": 22,
   "id": "36efd92a",
   "metadata": {},
   "outputs": [
    {
     "name": "stdout",
     "output_type": "stream",
     "text": [
      "monu\n"
     ]
    }
   ],
   "source": [
    "print(\"monu\")"
   ]
  },
  {
   "cell_type": "code",
   "execution_count": 31,
   "id": "7ba6098d",
   "metadata": {},
   "outputs": [
    {
     "name": "stdout",
     "output_type": "stream",
     "text": [
      "10000\n"
     ]
    }
   ],
   "source": [
    "salary1 = {\"Ctc - HRA 10%, DA 5%, PF 3% : \"}\n",
    "if (\"salary subtract salary1\"):\n",
    "    print(salary)"
   ]
  },
  {
   "cell_type": "code",
   "execution_count": 34,
   "id": "97e08d3c",
   "metadata": {},
   "outputs": [
    {
     "name": "stdout",
     "output_type": "stream",
     "text": [
      "salary :10000\n",
      "Ctc - HRA 10%, DA 5%, PF 3% : 2000\n",
      "8000\n"
     ]
    }
   ],
   "source": [
    "salary = int(input(\"salary :\"))\n",
    "deductions = int(input(\"Ctc - HRA 10%, DA 5%, PF 3% : \"))\n",
    "print(salary - deductions)"
   ]
  },
  {
   "cell_type": "code",
   "execution_count": null,
   "id": "04f262e7",
   "metadata": {},
   "outputs": [],
   "source": []
  }
 ],
 "metadata": {
  "kernelspec": {
   "display_name": "Python 3 (ipykernel)",
   "language": "python",
   "name": "python3"
  },
  "language_info": {
   "codemirror_mode": {
    "name": "ipython",
    "version": 3
   },
   "file_extension": ".py",
   "mimetype": "text/x-python",
   "name": "python",
   "nbconvert_exporter": "python",
   "pygments_lexer": "ipython3",
   "version": "3.11.4"
  }
 },
 "nbformat": 4,
 "nbformat_minor": 5
}

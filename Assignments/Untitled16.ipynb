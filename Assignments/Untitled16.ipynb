{
 "cells": [
  {
   "cell_type": "code",
   "execution_count": 4,
   "id": "2ee2f8c1",
   "metadata": {},
   "outputs": [
    {
     "name": "stdout",
     "output_type": "stream",
     "text": [
      "Enter first name: 5\n",
      "Enter second name: 5\n",
      "25\n"
     ]
    }
   ],
   "source": [
    "num1= int(input(\"Enter first name: \"))\n",
    "num2= int(input(\"Enter second name: \"))\n",
    "res= num1 * num2\n",
    "print(res)"
   ]
  },
  {
   "cell_type": "code",
   "execution_count": 5,
   "id": "6a08b581",
   "metadata": {},
   "outputs": [
    {
     "name": "stdout",
     "output_type": "stream",
     "text": [
      "Enter first name: 5\n",
      "Enter second name: 5\n",
      "25\n",
      "Welcome to python\n",
      "python\n"
     ]
    }
   ],
   "source": [
    "num1= int(input(\"Enter first name: \"))\n",
    "num2= int(input(\"Enter second name: \"))\n",
    "res= num1 * num2\n",
    "print(res)\n",
    "\n",
    "print(\"Welcome to python\")\n",
    "name= \"python\"\n",
    "print(name)"
   ]
  },
  {
   "cell_type": "code",
   "execution_count": 7,
   "id": "98321c16",
   "metadata": {},
   "outputs": [
    {
     "name": "stdout",
     "output_type": "stream",
     "text": [
      "Enter first name: 5\n",
      "Enter second name: 0\n"
     ]
    },
    {
     "ename": "ZeroDivisionError",
     "evalue": "division by zero",
     "output_type": "error",
     "traceback": [
      "\u001b[1;31m---------------------------------------------------------------------------\u001b[0m",
      "\u001b[1;31mZeroDivisionError\u001b[0m                         Traceback (most recent call last)",
      "Cell \u001b[1;32mIn[7], line 3\u001b[0m\n\u001b[0;32m      1\u001b[0m num1\u001b[38;5;241m=\u001b[39m \u001b[38;5;28mint\u001b[39m(\u001b[38;5;28minput\u001b[39m(\u001b[38;5;124m\"\u001b[39m\u001b[38;5;124mEnter first name: \u001b[39m\u001b[38;5;124m\"\u001b[39m))\n\u001b[0;32m      2\u001b[0m num2\u001b[38;5;241m=\u001b[39m \u001b[38;5;28mint\u001b[39m(\u001b[38;5;28minput\u001b[39m(\u001b[38;5;124m\"\u001b[39m\u001b[38;5;124mEnter second name: \u001b[39m\u001b[38;5;124m\"\u001b[39m))\n\u001b[1;32m----> 3\u001b[0m res\u001b[38;5;241m=\u001b[39m \u001b[43mnum1\u001b[49m\u001b[43m \u001b[49m\u001b[38;5;241;43m/\u001b[39;49m\u001b[43m \u001b[49m\u001b[43mnum2\u001b[49m\n\u001b[0;32m      4\u001b[0m \u001b[38;5;28mprint\u001b[39m(res)\n\u001b[0;32m      6\u001b[0m \u001b[38;5;28mprint\u001b[39m(\u001b[38;5;124m\"\u001b[39m\u001b[38;5;124mWelcome to python\u001b[39m\u001b[38;5;124m\"\u001b[39m)\n",
      "\u001b[1;31mZeroDivisionError\u001b[0m: division by zero"
     ]
    }
   ],
   "source": [
    "num1= int(input(\"Enter first name: \"))\n",
    "num2= int(input(\"Enter second name: \"))\n",
    "res= num1 / num2\n",
    "print(res)\n",
    "\n",
    "print(\"Welcome to python\")\n",
    "name= \"python\"\n",
    "print(name)"
   ]
  },
  {
   "cell_type": "code",
   "execution_count": 3,
   "id": "2acc4f05",
   "metadata": {},
   "outputs": [],
   "source": [
    "res= lambda num : num * res(num-1)"
   ]
  },
  {
   "cell_type": "code",
   "execution_count": 4,
   "id": "d76553f0",
   "metadata": {},
   "outputs": [
    {
     "ename": "RecursionError",
     "evalue": "maximum recursion depth exceeded",
     "output_type": "error",
     "traceback": [
      "\u001b[1;31m---------------------------------------------------------------------------\u001b[0m",
      "\u001b[1;31mRecursionError\u001b[0m                            Traceback (most recent call last)",
      "Cell \u001b[1;32mIn[4], line 1\u001b[0m\n\u001b[1;32m----> 1\u001b[0m \u001b[43mres\u001b[49m\u001b[43m(\u001b[49m\u001b[38;5;241;43m5\u001b[39;49m\u001b[43m)\u001b[49m\n",
      "Cell \u001b[1;32mIn[3], line 1\u001b[0m, in \u001b[0;36m<lambda>\u001b[1;34m(num)\u001b[0m\n\u001b[1;32m----> 1\u001b[0m res\u001b[38;5;241m=\u001b[39m \u001b[38;5;28;01mlambda\u001b[39;00m num : num \u001b[38;5;241m*\u001b[39m \u001b[43mres\u001b[49m\u001b[43m(\u001b[49m\u001b[43mnum\u001b[49m\u001b[38;5;241;43m-\u001b[39;49m\u001b[38;5;241;43m1\u001b[39;49m\u001b[43m)\u001b[49m\n",
      "Cell \u001b[1;32mIn[3], line 1\u001b[0m, in \u001b[0;36m<lambda>\u001b[1;34m(num)\u001b[0m\n\u001b[1;32m----> 1\u001b[0m res\u001b[38;5;241m=\u001b[39m \u001b[38;5;28;01mlambda\u001b[39;00m num : num \u001b[38;5;241m*\u001b[39m \u001b[43mres\u001b[49m\u001b[43m(\u001b[49m\u001b[43mnum\u001b[49m\u001b[38;5;241;43m-\u001b[39;49m\u001b[38;5;241;43m1\u001b[39;49m\u001b[43m)\u001b[49m\n",
      "    \u001b[1;31m[... skipping similar frames: <lambda> at line 1 (2970 times)]\u001b[0m\n",
      "Cell \u001b[1;32mIn[3], line 1\u001b[0m, in \u001b[0;36m<lambda>\u001b[1;34m(num)\u001b[0m\n\u001b[1;32m----> 1\u001b[0m res\u001b[38;5;241m=\u001b[39m \u001b[38;5;28;01mlambda\u001b[39;00m num : num \u001b[38;5;241m*\u001b[39m \u001b[43mres\u001b[49m\u001b[43m(\u001b[49m\u001b[43mnum\u001b[49m\u001b[38;5;241;43m-\u001b[39;49m\u001b[38;5;241;43m1\u001b[39;49m\u001b[43m)\u001b[49m\n",
      "\u001b[1;31mRecursionError\u001b[0m: maximum recursion depth exceeded"
     ]
    }
   ],
   "source": [
    "res(5)"
   ]
  },
  {
   "cell_type": "code",
   "execution_count": 5,
   "id": "ffcded8a",
   "metadata": {},
   "outputs": [
    {
     "ename": "RecursionError",
     "evalue": "maximum recursion depth exceeded",
     "output_type": "error",
     "traceback": [
      "\u001b[1;31m---------------------------------------------------------------------------\u001b[0m",
      "\u001b[1;31mRecursionError\u001b[0m                            Traceback (most recent call last)",
      "Cell \u001b[1;32mIn[5], line 1\u001b[0m\n\u001b[1;32m----> 1\u001b[0m \u001b[43mres\u001b[49m\u001b[43m(\u001b[49m\u001b[38;5;241;43m5\u001b[39;49m\u001b[43m)\u001b[49m\n",
      "Cell \u001b[1;32mIn[3], line 1\u001b[0m, in \u001b[0;36m<lambda>\u001b[1;34m(num)\u001b[0m\n\u001b[1;32m----> 1\u001b[0m res\u001b[38;5;241m=\u001b[39m \u001b[38;5;28;01mlambda\u001b[39;00m num : num \u001b[38;5;241m*\u001b[39m \u001b[43mres\u001b[49m\u001b[43m(\u001b[49m\u001b[43mnum\u001b[49m\u001b[38;5;241;43m-\u001b[39;49m\u001b[38;5;241;43m1\u001b[39;49m\u001b[43m)\u001b[49m\n",
      "Cell \u001b[1;32mIn[3], line 1\u001b[0m, in \u001b[0;36m<lambda>\u001b[1;34m(num)\u001b[0m\n\u001b[1;32m----> 1\u001b[0m res\u001b[38;5;241m=\u001b[39m \u001b[38;5;28;01mlambda\u001b[39;00m num : num \u001b[38;5;241m*\u001b[39m \u001b[43mres\u001b[49m\u001b[43m(\u001b[49m\u001b[43mnum\u001b[49m\u001b[38;5;241;43m-\u001b[39;49m\u001b[38;5;241;43m1\u001b[39;49m\u001b[43m)\u001b[49m\n",
      "    \u001b[1;31m[... skipping similar frames: <lambda> at line 1 (2970 times)]\u001b[0m\n",
      "Cell \u001b[1;32mIn[3], line 1\u001b[0m, in \u001b[0;36m<lambda>\u001b[1;34m(num)\u001b[0m\n\u001b[1;32m----> 1\u001b[0m res\u001b[38;5;241m=\u001b[39m \u001b[38;5;28;01mlambda\u001b[39;00m num : num \u001b[38;5;241m*\u001b[39m \u001b[43mres\u001b[49m\u001b[43m(\u001b[49m\u001b[43mnum\u001b[49m\u001b[38;5;241;43m-\u001b[39;49m\u001b[38;5;241;43m1\u001b[39;49m\u001b[43m)\u001b[49m\n",
      "\u001b[1;31mRecursionError\u001b[0m: maximum recursion depth exceeded"
     ]
    }
   ],
   "source": [
    "res(5)"
   ]
  },
  {
   "cell_type": "code",
   "execution_count": null,
   "id": "bcc637eb",
   "metadata": {},
   "outputs": [],
   "source": [
    "        "
   ]
  },
  {
   "cell_type": "code",
   "execution_count": 7,
   "id": "2eea5b75",
   "metadata": {},
   "outputs": [],
   "source": [
    "res= lambda num : num * res(num-1)"
   ]
  },
  {
   "cell_type": "code",
   "execution_count": 9,
   "id": "0fad8ca8",
   "metadata": {},
   "outputs": [
    {
     "ename": "RecursionError",
     "evalue": "maximum recursion depth exceeded",
     "output_type": "error",
     "traceback": [
      "\u001b[1;31m---------------------------------------------------------------------------\u001b[0m",
      "\u001b[1;31mRecursionError\u001b[0m                            Traceback (most recent call last)",
      "Cell \u001b[1;32mIn[9], line 1\u001b[0m\n\u001b[1;32m----> 1\u001b[0m \u001b[43mres\u001b[49m\u001b[43m(\u001b[49m\u001b[38;5;241;43m5\u001b[39;49m\u001b[43m)\u001b[49m\n",
      "Cell \u001b[1;32mIn[7], line 1\u001b[0m, in \u001b[0;36m<lambda>\u001b[1;34m(num)\u001b[0m\n\u001b[1;32m----> 1\u001b[0m res\u001b[38;5;241m=\u001b[39m \u001b[38;5;28;01mlambda\u001b[39;00m num : num \u001b[38;5;241m*\u001b[39m \u001b[43mres\u001b[49m\u001b[43m(\u001b[49m\u001b[43mnum\u001b[49m\u001b[38;5;241;43m-\u001b[39;49m\u001b[38;5;241;43m1\u001b[39;49m\u001b[43m)\u001b[49m\n",
      "Cell \u001b[1;32mIn[7], line 1\u001b[0m, in \u001b[0;36m<lambda>\u001b[1;34m(num)\u001b[0m\n\u001b[1;32m----> 1\u001b[0m res\u001b[38;5;241m=\u001b[39m \u001b[38;5;28;01mlambda\u001b[39;00m num : num \u001b[38;5;241m*\u001b[39m \u001b[43mres\u001b[49m\u001b[43m(\u001b[49m\u001b[43mnum\u001b[49m\u001b[38;5;241;43m-\u001b[39;49m\u001b[38;5;241;43m1\u001b[39;49m\u001b[43m)\u001b[49m\n",
      "    \u001b[1;31m[... skipping similar frames: <lambda> at line 1 (2971 times)]\u001b[0m\n",
      "Cell \u001b[1;32mIn[7], line 1\u001b[0m, in \u001b[0;36m<lambda>\u001b[1;34m(num)\u001b[0m\n\u001b[1;32m----> 1\u001b[0m res\u001b[38;5;241m=\u001b[39m \u001b[38;5;28;01mlambda\u001b[39;00m num : num \u001b[38;5;241m*\u001b[39m \u001b[43mres\u001b[49m\u001b[43m(\u001b[49m\u001b[43mnum\u001b[49m\u001b[38;5;241;43m-\u001b[39;49m\u001b[38;5;241;43m1\u001b[39;49m\u001b[43m)\u001b[49m\n",
      "\u001b[1;31mRecursionError\u001b[0m: maximum recursion depth exceeded"
     ]
    }
   ],
   "source": [
    "res(5)"
   ]
  },
  {
   "cell_type": "code",
   "execution_count": 10,
   "id": "5ab169f1",
   "metadata": {},
   "outputs": [
    {
     "name": "stdout",
     "output_type": "stream",
     "text": [
      "Enter the number: 5\n",
      "factorial of number is 120\n"
     ]
    }
   ],
   "source": [
    "res = lambda num:1 if num<=1 else num * res(num-1)\n",
    "\n",
    "n= int(input(\"Enter the number: \"))\n",
    "\n",
    "result= res(n)\n",
    "\n",
    "print(f'factorial of number is {result}')"
   ]
  },
  {
   "cell_type": "code",
   "execution_count": null,
   "id": "c9f43460",
   "metadata": {},
   "outputs": [],
   "source": []
  }
 ],
 "metadata": {
  "kernelspec": {
   "display_name": "Python 3 (ipykernel)",
   "language": "python",
   "name": "python3"
  },
  "language_info": {
   "codemirror_mode": {
    "name": "ipython",
    "version": 3
   },
   "file_extension": ".py",
   "mimetype": "text/x-python",
   "name": "python",
   "nbconvert_exporter": "python",
   "pygments_lexer": "ipython3",
   "version": "3.11.4"
  }
 },
 "nbformat": 4,
 "nbformat_minor": 5
}

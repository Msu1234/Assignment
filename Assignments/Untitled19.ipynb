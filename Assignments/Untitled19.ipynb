{
 "cells": [
  {
   "cell_type": "code",
   "execution_count": null,
   "id": "72e52d8f",
   "metadata": {},
   "outputs": [],
   "source": [
    "i=0\n",
    "sum_number =0\n",
    "while(i>=0):\n",
    "    sum_number = sum_number + i\n",
    "print(sum_number)\n",
    "i=i+1"
   ]
  },
  {
   "cell_type": "code",
   "execution_count": 8,
   "id": "530f3db8",
   "metadata": {},
   "outputs": [
    {
     "name": "stdout",
     "output_type": "stream",
     "text": [
      "0\n",
      "1\n",
      "3\n",
      "6\n",
      "10\n",
      "15\n",
      "21\n",
      "28\n",
      "36\n",
      "45\n",
      "55\n"
     ]
    }
   ],
   "source": [
    "i=0\n",
    "sum_number =0\n",
    "while(i<11):\n",
    "    sum_number = sum_number + i\n",
    "    print(sum_number)\n",
    "    i=i+1"
   ]
  },
  {
   "cell_type": "code",
   "execution_count": 13,
   "id": "32d7bba9",
   "metadata": {},
   "outputs": [
    {
     "name": "stdout",
     "output_type": "stream",
     "text": [
      "Enter the number :153\n",
      "the number is armstrong\n"
     ]
    }
   ],
   "source": [
    "num=int(input(\"Enter the number :\"))\n",
    "a = num %10\n",
    "num1 = num //10\n",
    "b = num1 %10\n",
    "num2 = num1 //10\n",
    "c = num2 %10\n",
    "num3 =num2//10\n",
    "if(a**3 + b**3 + c**3 == num):\n",
    "    print(\"the number is armstrong\")\n",
    "else:\n",
    "    print(\"not armstrong\")"
   ]
  },
  {
   "cell_type": "code",
   "execution_count": 26,
   "id": "cebb1f9c",
   "metadata": {},
   "outputs": [
    {
     "name": "stdout",
     "output_type": "stream",
     "text": [
      "Enter the number: 169\n",
      "Not armstrong\n"
     ]
    }
   ],
   "source": [
    "num=int(input(\"Enter the number: \"))\n",
    "rem=0\n",
    "arm=0\n",
    "temp=0\n",
    "while(num>0):\n",
    "    rem= num%10\n",
    "    arm= arm + pow(rem,3)\n",
    "    num= num//10\n",
    "if(temp==arm):\n",
    "    print(\"The number is armstrong\")\n",
    "else:\n",
    "    print(\"Not armstrong\")"
   ]
  },
  {
   "cell_type": "code",
   "execution_count": null,
   "id": "2b6242c1",
   "metadata": {},
   "outputs": [],
   "source": []
  }
 ],
 "metadata": {
  "kernelspec": {
   "display_name": "Python 3 (ipykernel)",
   "language": "python",
   "name": "python3"
  },
  "language_info": {
   "codemirror_mode": {
    "name": "ipython",
    "version": 3
   },
   "file_extension": ".py",
   "mimetype": "text/x-python",
   "name": "python",
   "nbconvert_exporter": "python",
   "pygments_lexer": "ipython3",
   "version": "3.11.4"
  }
 },
 "nbformat": 4,
 "nbformat_minor": 5
}

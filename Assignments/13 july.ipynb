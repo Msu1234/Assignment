{
 "cells": [
  {
   "cell_type": "code",
   "execution_count": null,
   "id": "9e386ab2",
   "metadata": {},
   "outputs": [],
   "source": [
    "num= int(input(\"Enter the number :\"))\n",
    "sum_of_digits = 0\n",
    "while(num>=0):\n",
    "    result = num + 1\n",
    "print(result)"
   ]
  },
  {
   "cell_type": "code",
   "execution_count": 8,
   "id": "00814dc7",
   "metadata": {},
   "outputs": [
    {
     "name": "stdout",
     "output_type": "stream",
     "text": [
      "0\n",
      "1\n",
      "3\n",
      "5\n",
      "7\n",
      "9\n",
      "11\n",
      "13\n",
      "15\n",
      "17\n",
      "19\n"
     ]
    }
   ],
   "source": [
    "sum_number = 0\n",
    "for i in range(11):\n",
    "    sum_number = sum_number + i\n",
    "    print(sum_number)\n",
    "    sum_number = i"
   ]
  },
  {
   "cell_type": "code",
   "execution_count": 5,
   "id": "a5f85014",
   "metadata": {},
   "outputs": [
    {
     "name": "stdout",
     "output_type": "stream",
     "text": [
      "0\n",
      "1\n",
      "3\n",
      "5\n",
      "7\n",
      "9\n",
      "11\n",
      "13\n",
      "15\n",
      "17\n",
      "19\n"
     ]
    }
   ],
   "source": [
    "i =0\n",
    "sum_number =0\n",
    "while(i<11):\n",
    "    sum_number = sum_number + i\n",
    "    print(sum_number)\n",
    "    sum_number = i\n",
    "    i=i+1"
   ]
  },
  {
   "cell_type": "code",
   "execution_count": 9,
   "id": "c28fc831",
   "metadata": {},
   "outputs": [],
   "source": [
    "#print all the armstrong numbers in the range of 100 to 1000\n",
    "#print number is armstrong or not"
   ]
  },
  {
   "cell_type": "code",
   "execution_count": 26,
   "id": "a46809b1",
   "metadata": {},
   "outputs": [
    {
     "name": "stdout",
     "output_type": "stream",
     "text": [
      "Enter the number: 111\n",
      "Not Armstrong\n"
     ]
    }
   ],
   "source": [
    "num = int(input(\"Enter the number: \"))\n",
    "a = num % 10\n",
    "num1 = num // 10\n",
    "b = num1 % 10\n",
    "num2 = num1 // 10\n",
    "c = num2 % 10\n",
    "if(a**3 + b**3 + c**3 == num):\n",
    "    print(\"number is armstrong\")\n",
    "else:\n",
    "    print(\"Not Armstrong\")\n"
   ]
  },
  {
   "cell_type": "code",
   "execution_count": 29,
   "id": "ea9ae631",
   "metadata": {},
   "outputs": [
    {
     "name": "stdout",
     "output_type": "stream",
     "text": [
      "Enter the number: 1234\n",
      "Not armstrong\n"
     ]
    }
   ],
   "source": [
    "num =int(input(\"Enter the number: \"))\n",
    "a = num% 10 \n",
    "num1 = num // 10\n",
    "b= num1 % 10\n",
    "num2 = num1 //10\n",
    "c= num2 %10\n",
    "num3 = num2 //10\n",
    "d= num3 %10\n",
    "if(a**3 + b**3 + c**3 + d**3 ==num):\n",
    "    print(\"number is armstrong\")\n",
    "else:\n",
    "    print(\"Not armstrong\")\n"
   ]
  },
  {
   "cell_type": "code",
   "execution_count": 30,
   "id": "0e22ad15",
   "metadata": {},
   "outputs": [
    {
     "name": "stdout",
     "output_type": "stream",
     "text": [
      "Enter the number :169\n",
      "Not armstrong\n"
     ]
    }
   ],
   "source": [
    "num = int(input(\"Enter the number :\"))\n",
    "temp =num\n",
    "rem=0\n",
    "arm=0\n",
    "while(num>0):\n",
    "    rem = num %10\n",
    "    arm = arm + pow(rem,3)\n",
    "    num =num //10\n",
    "if(temp ==arm):\n",
    "    print(\"Number is armstrong\")\n",
    "else:\n",
    "    print(\"Not armstrong\")"
   ]
  },
  {
   "cell_type": "code",
   "execution_count": null,
   "id": "0bade53c",
   "metadata": {},
   "outputs": [],
   "source": []
  }
 ],
 "metadata": {
  "kernelspec": {
   "display_name": "Python 3 (ipykernel)",
   "language": "python",
   "name": "python3"
  },
  "language_info": {
   "codemirror_mode": {
    "name": "ipython",
    "version": 3
   },
   "file_extension": ".py",
   "mimetype": "text/x-python",
   "name": "python",
   "nbconvert_exporter": "python",
   "pygments_lexer": "ipython3",
   "version": "3.11.4"
  }
 },
 "nbformat": 4,
 "nbformat_minor": 5
}

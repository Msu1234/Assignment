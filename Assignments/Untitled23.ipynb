{
 "cells": [
  {
   "cell_type": "code",
   "execution_count": 1,
   "id": "cc4e0151",
   "metadata": {},
   "outputs": [
    {
     "ename": "SyntaxError",
     "evalue": "invalid syntax (2201289213.py, line 9)",
     "output_type": "error",
     "traceback": [
      "\u001b[1;36m  Cell \u001b[1;32mIn[1], line 9\u001b[1;36m\u001b[0m\n\u001b[1;33m    modes:\u001b[0m\n\u001b[1;37m          ^\u001b[0m\n\u001b[1;31mSyntaxError\u001b[0m\u001b[1;31m:\u001b[0m invalid syntax\n"
     ]
    }
   ],
   "source": [
    "#file system : collection of data\n",
    "#Text - All programm in text program\n",
    "#Binary - Image, music, video etc\n",
    "\n",
    "#open a file\n",
    "#Read and wriet a file\n",
    "#close the file\n",
    "\n",
    "modes:\n",
    "\n",
    "#r- read only if exists\n",
    "\n",
    "#fs = open(\"Welcome.txt\", 'r')\n",
    "\n",
    "#print(fs)\n",
    "\n",
    "#fs =open(\"Welcome.txt\", 'r+')\n",
    "\n",
    "print(fs)\n",
    "\n",
    "#fs = open(\"hello.txt\", 'w+')\n",
    "\n",
    "print(fs)\n"
   ]
  },
  {
   "cell_type": "code",
   "execution_count": null,
   "id": "4d728358",
   "metadata": {},
   "outputs": [],
   "source": []
  }
 ],
 "metadata": {
  "kernelspec": {
   "display_name": "Python 3 (ipykernel)",
   "language": "python",
   "name": "python3"
  },
  "language_info": {
   "codemirror_mode": {
    "name": "ipython",
    "version": 3
   },
   "file_extension": ".py",
   "mimetype": "text/x-python",
   "name": "python",
   "nbconvert_exporter": "python",
   "pygments_lexer": "ipython3",
   "version": "3.11.4"
  }
 },
 "nbformat": 4,
 "nbformat_minor": 5
}

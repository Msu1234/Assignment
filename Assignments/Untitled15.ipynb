{
 "cells": [
  {
   "cell_type": "code",
   "execution_count": 1,
   "id": "ffa899f0",
   "metadata": {},
   "outputs": [],
   "source": [
    "#Exception handling with python"
   ]
  },
  {
   "cell_type": "code",
   "execution_count": 2,
   "id": "8db2415a",
   "metadata": {},
   "outputs": [],
   "source": [
    "#Types of exceptions :\n",
    "#Zerodivision error\n",
    "#Type error\n",
    "#Name Error\n",
    "#IndentationError\n",
    "#Attribute Error\n",
    "#Flexnot founderror\n",
    "#SyntaxError\n",
    "\n",
    "#Keywords :\n",
    "#Try\n",
    "#Except\n",
    "#Else\n",
    "#Finally"
   ]
  },
  {
   "cell_type": "code",
   "execution_count": 4,
   "id": "7e1cc3f4",
   "metadata": {},
   "outputs": [
    {
     "name": "stdout",
     "output_type": "stream",
     "text": [
      "Enter Firts numner :25\n",
      "Enter second number :1\n",
      "25.0\n"
     ]
    }
   ],
   "source": [
    "num1 = int(input(\"Enter Firts numner :\" ))\n",
    "num2 = int(input(\"Enter second number :\"))\n",
    "result = num1 / num2\n",
    "print(result)"
   ]
  },
  {
   "cell_type": "code",
   "execution_count": 6,
   "id": "03063f09",
   "metadata": {},
   "outputs": [
    {
     "name": "stdout",
     "output_type": "stream",
     "text": [
      "Enter Firts numner :25\n",
      "Enter second number :6\n",
      "4.166666666666667\n",
      "Welcome to python \n",
      "Python\n"
     ]
    }
   ],
   "source": [
    "num1 = int(input(\"Enter Firts numner :\" ))\n",
    "num2 = int(input(\"Enter second number :\"))\n",
    "result = num1 / num2\n",
    "print(result)\n",
    "\n",
    "print(\"Welcome to python \")\n",
    "\n",
    "name= \"Python\"\n",
    "\n",
    "print(name)"
   ]
  },
  {
   "cell_type": "code",
   "execution_count": 7,
   "id": "0bc89cbb",
   "metadata": {},
   "outputs": [
    {
     "name": "stdout",
     "output_type": "stream",
     "text": [
      "Enter Firts numner :25\n",
      "Enter second number :0\n"
     ]
    },
    {
     "ename": "ZeroDivisionError",
     "evalue": "division by zero",
     "output_type": "error",
     "traceback": [
      "\u001b[1;31m---------------------------------------------------------------------------\u001b[0m",
      "\u001b[1;31mZeroDivisionError\u001b[0m                         Traceback (most recent call last)",
      "Cell \u001b[1;32mIn[7], line 3\u001b[0m\n\u001b[0;32m      1\u001b[0m num1 \u001b[38;5;241m=\u001b[39m \u001b[38;5;28mint\u001b[39m(\u001b[38;5;28minput\u001b[39m(\u001b[38;5;124m\"\u001b[39m\u001b[38;5;124mEnter Firts numner :\u001b[39m\u001b[38;5;124m\"\u001b[39m ))\n\u001b[0;32m      2\u001b[0m num2 \u001b[38;5;241m=\u001b[39m \u001b[38;5;28mint\u001b[39m(\u001b[38;5;28minput\u001b[39m(\u001b[38;5;124m\"\u001b[39m\u001b[38;5;124mEnter second number :\u001b[39m\u001b[38;5;124m\"\u001b[39m))\n\u001b[1;32m----> 3\u001b[0m result \u001b[38;5;241m=\u001b[39m \u001b[43mnum1\u001b[49m\u001b[43m \u001b[49m\u001b[38;5;241;43m/\u001b[39;49m\u001b[43m \u001b[49m\u001b[43mnum2\u001b[49m\n\u001b[0;32m      4\u001b[0m \u001b[38;5;28mprint\u001b[39m(result)\n\u001b[0;32m      6\u001b[0m \u001b[38;5;28mprint\u001b[39m(\u001b[38;5;124m\"\u001b[39m\u001b[38;5;124mWelcome to python \u001b[39m\u001b[38;5;124m\"\u001b[39m)\n",
      "\u001b[1;31mZeroDivisionError\u001b[0m: division by zero"
     ]
    }
   ],
   "source": [
    "num1 = int(input(\"Enter Firts numner :\" ))\n",
    "num2 = int(input(\"Enter second number :\"))\n",
    "result = num1 / num2\n",
    "print(result)\n",
    "\n",
    "print(\"Welcome to python \")\n",
    "\n",
    "name= \"Python\"\n",
    "\n",
    "print(name)"
   ]
  },
  {
   "cell_type": "code",
   "execution_count": 8,
   "id": "053f2d6f",
   "metadata": {},
   "outputs": [
    {
     "ename": "NameError",
     "evalue": "name 't' is not defined",
     "output_type": "error",
     "traceback": [
      "\u001b[1;31m---------------------------------------------------------------------------\u001b[0m",
      "\u001b[1;31mNameError\u001b[0m                                 Traceback (most recent call last)",
      "Cell \u001b[1;32mIn[8], line 1\u001b[0m\n\u001b[1;32m----> 1\u001b[0m \u001b[38;5;28mprint\u001b[39m(\u001b[43mt\u001b[49m)\n",
      "\u001b[1;31mNameError\u001b[0m: name 't' is not defined"
     ]
    }
   ],
   "source": [
    "print(t)"
   ]
  },
  {
   "cell_type": "code",
   "execution_count": 9,
   "id": "b5d305df",
   "metadata": {},
   "outputs": [
    {
     "ename": "IndentationError",
     "evalue": "expected an indented block after 'if' statement on line 1 (4261662570.py, line 2)",
     "output_type": "error",
     "traceback": [
      "\u001b[1;36m  Cell \u001b[1;32mIn[9], line 2\u001b[1;36m\u001b[0m\n\u001b[1;33m    print(\"Welcome\")\u001b[0m\n\u001b[1;37m    ^\u001b[0m\n\u001b[1;31mIndentationError\u001b[0m\u001b[1;31m:\u001b[0m expected an indented block after 'if' statement on line 1\n"
     ]
    }
   ],
   "source": [
    "if (x>y):\n",
    "print(\"Welcome\")"
   ]
  },
  {
   "cell_type": "code",
   "execution_count": 12,
   "id": "8c53011f",
   "metadata": {},
   "outputs": [
    {
     "name": "stdout",
     "output_type": "stream",
     "text": [
      "Enter Firts numner :25\n",
      "Enter second number :0\n",
      "division by zero\n",
      "Welcome to python \n",
      "Python\n"
     ]
    }
   ],
   "source": [
    "try:\n",
    "    num1 = int(input(\"Enter Firts numner :\" ))\n",
    "    num2 = int(input(\"Enter second number :\"))\n",
    "    \n",
    "    result = num1 / num2\n",
    "    print(result)\n",
    "\n",
    "except ZeroDivisionError as e:\n",
    "    print(e)\n",
    "    \n",
    "print(\"Welcome to python \")\n",
    "\n",
    "name= \"Python\"\n",
    "\n",
    "print(name)"
   ]
  },
  {
   "cell_type": "code",
   "execution_count": null,
   "id": "5acf1c7b",
   "metadata": {},
   "outputs": [],
   "source": [
    "name = input(\"Enter your name: \")\n",
    "age = int(input(\"Enter your age :\"))\n",
    "\n",
    "name+age\n",
    "    "
   ]
  },
  {
   "cell_type": "code",
   "execution_count": null,
   "id": "817d5549",
   "metadata": {},
   "outputs": [],
   "source": [
    "try:\n",
    "    name = input(\"Enter your name: \")\n",
    "    age = int(input(\"Enter your age :\"))\n",
    "\n",
    "    name + age\n",
    "except TypeError as T:\n",
    "    print(t)\n",
    "print(\"Welcome\")"
   ]
  },
  {
   "cell_type": "code",
   "execution_count": null,
   "id": "86b8f71b",
   "metadata": {},
   "outputs": [],
   "source": [
    "name = input(\"Enter your name: \")\n",
    "age = int(input(\"Enter your age :\"))\n",
    "\n",
    "name+age\n",
    "    "
   ]
  },
  {
   "cell_type": "code",
   "execution_count": 18,
   "id": "69bb7840",
   "metadata": {},
   "outputs": [
    {
     "name": "stdout",
     "output_type": "stream",
     "text": [
      "Enter your name: monu\n",
      "Enter your age :1\n"
     ]
    },
    {
     "ename": "TypeError",
     "evalue": "can only concatenate str (not \"int\") to str",
     "output_type": "error",
     "traceback": [
      "\u001b[1;31m---------------------------------------------------------------------------\u001b[0m",
      "\u001b[1;31mTypeError\u001b[0m                                 Traceback (most recent call last)",
      "Cell \u001b[1;32mIn[18], line 4\u001b[0m\n\u001b[0;32m      1\u001b[0m name \u001b[38;5;241m=\u001b[39m \u001b[38;5;28minput\u001b[39m(\u001b[38;5;124m\"\u001b[39m\u001b[38;5;124mEnter your name: \u001b[39m\u001b[38;5;124m\"\u001b[39m)\n\u001b[0;32m      2\u001b[0m age \u001b[38;5;241m=\u001b[39m \u001b[38;5;28mint\u001b[39m(\u001b[38;5;28minput\u001b[39m(\u001b[38;5;124m\"\u001b[39m\u001b[38;5;124mEnter your age :\u001b[39m\u001b[38;5;124m\"\u001b[39m))\n\u001b[1;32m----> 4\u001b[0m \u001b[43mname\u001b[49m\u001b[38;5;241;43m+\u001b[39;49m\u001b[43mage\u001b[49m\n",
      "\u001b[1;31mTypeError\u001b[0m: can only concatenate str (not \"int\") to str"
     ]
    }
   ],
   "source": [
    "name = input(\"Enter your name: \")\n",
    "age = int(input(\"Enter your age :\"))\n",
    "\n",
    "name+age"
   ]
  },
  {
   "cell_type": "code",
   "execution_count": 20,
   "id": "fd0913e7",
   "metadata": {
    "scrolled": true
   },
   "outputs": [
    {
     "name": "stdout",
     "output_type": "stream",
     "text": [
      "Enter your name: monu\n",
      "Enter your age :1\n",
      "can only concatenate str (not \"int\") to str\n",
      "Welcome\n"
     ]
    }
   ],
   "source": [
    "try:\n",
    "    name = input(\"Enter your name: \")\n",
    "    age = int(input(\"Enter your age :\"))\n",
    "\n",
    "    name+age\n",
    "except TypeError as t:\n",
    "    print(t)\n",
    "    \n",
    "print(\"Welcome\")"
   ]
  },
  {
   "cell_type": "code",
   "execution_count": 31,
   "id": "5e9d5365",
   "metadata": {},
   "outputs": [
    {
     "ename": "IndentationError",
     "evalue": "expected an indented block after 'if' statement on line 4 (4123371024.py, line 5)",
     "output_type": "error",
     "traceback": [
      "\u001b[1;36m  Cell \u001b[1;32mIn[31], line 5\u001b[1;36m\u001b[0m\n\u001b[1;33m    print(\"Welcome\")\u001b[0m\n\u001b[1;37m    ^\u001b[0m\n\u001b[1;31mIndentationError\u001b[0m\u001b[1;31m:\u001b[0m expected an indented block after 'if' statement on line 4\n"
     ]
    }
   ],
   "source": [
    "try:\n",
    "    x=10\n",
    "    y=11\n",
    "    if (x>y):\n",
    "    print(\"Welcome\")\n",
    "except IndentationError as i:\n",
    "    print(i)"
   ]
  },
  {
   "cell_type": "code",
   "execution_count": null,
   "id": "77d11357",
   "metadata": {},
   "outputs": [],
   "source": []
  },
  {
   "cell_type": "code",
   "execution_count": null,
   "id": "364946f3",
   "metadata": {},
   "outputs": [],
   "source": []
  }
 ],
 "metadata": {
  "kernelspec": {
   "display_name": "Python 3 (ipykernel)",
   "language": "python",
   "name": "python3"
  },
  "language_info": {
   "codemirror_mode": {
    "name": "ipython",
    "version": 3
   },
   "file_extension": ".py",
   "mimetype": "text/x-python",
   "name": "python",
   "nbconvert_exporter": "python",
   "pygments_lexer": "ipython3",
   "version": "3.11.4"
  }
 },
 "nbformat": 4,
 "nbformat_minor": 5
}

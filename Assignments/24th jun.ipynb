{
 "cells": [
  {
   "cell_type": "code",
   "execution_count": 1,
   "id": "8eab10d0",
   "metadata": {},
   "outputs": [
    {
     "name": "stdout",
     "output_type": "stream",
     "text": [
      "1\n",
      "2\n",
      "3\n",
      "4\n",
      "5\n"
     ]
    }
   ],
   "source": [
    "#write a program to find sum of n numbers\n",
    "i = 1\n",
    "while(i<=5):\n",
    "    print(i)\n",
    "    i=i+1"
   ]
  },
  {
   "cell_type": "code",
   "execution_count": 2,
   "id": "a14b5d15",
   "metadata": {},
   "outputs": [
    {
     "ename": "SyntaxError",
     "evalue": "expected ':' (3466517956.py, line 3)",
     "output_type": "error",
     "traceback": [
      "\u001b[1;36m  Cell \u001b[1;32mIn[2], line 3\u001b[1;36m\u001b[0m\n\u001b[1;33m    while(i<=5)\u001b[0m\n\u001b[1;37m               ^\u001b[0m\n\u001b[1;31mSyntaxError\u001b[0m\u001b[1;31m:\u001b[0m expected ':'\n"
     ]
    }
   ],
   "source": [
    "i = 1\n",
    "sum_of_numbers = 0\n",
    "while(i<=5)\n",
    "    sum_of_numbers = sum_of_numbers + 1\n",
    "    i=i+1\n",
    "print(f'sum of numbers are : {sum_of_numbers}')    "
   ]
  },
  {
   "cell_type": "code",
   "execution_count": 3,
   "id": "e4d054c1",
   "metadata": {},
   "outputs": [
    {
     "ename": "NameError",
     "evalue": "name 'sum_of_numbers' is not defined",
     "output_type": "error",
     "traceback": [
      "\u001b[1;31m---------------------------------------------------------------------------\u001b[0m",
      "\u001b[1;31mNameError\u001b[0m                                 Traceback (most recent call last)",
      "Cell \u001b[1;32mIn[3], line 5\u001b[0m\n\u001b[0;32m      3\u001b[0m \u001b[38;5;28;01mwhile\u001b[39;00m(i\u001b[38;5;241m<\u001b[39m\u001b[38;5;241m=\u001b[39m\u001b[38;5;241m5\u001b[39m):\n\u001b[0;32m      4\u001b[0m     \u001b[38;5;28;01mif\u001b[39;00m(i\u001b[38;5;241m%\u001b[39m\u001b[38;5;241m2\u001b[39m\u001b[38;5;241m==\u001b[39m\u001b[38;5;241m1\u001b[39m):\n\u001b[1;32m----> 5\u001b[0m         sum_of_numbers \u001b[38;5;241m=\u001b[39m \u001b[43msum_of_numbers\u001b[49m \u001b[38;5;241m+\u001b[39m i\n\u001b[0;32m      6\u001b[0m     i\u001b[38;5;241m=\u001b[39mi\u001b[38;5;241m+\u001b[39m\u001b[38;5;241m1\u001b[39m\n\u001b[0;32m      7\u001b[0m \u001b[38;5;28mprint\u001b[39m(\u001b[38;5;124mf\u001b[39m\u001b[38;5;124m'\u001b[39m\u001b[38;5;124mSum of numbers are: \u001b[39m\u001b[38;5;132;01m{\u001b[39;00msum_of_numbers\u001b[38;5;132;01m}\u001b[39;00m\u001b[38;5;124m'\u001b[39m)    \n",
      "\u001b[1;31mNameError\u001b[0m: name 'sum_of_numbers' is not defined"
     ]
    }
   ],
   "source": [
    "i = 1\n",
    "sum_of_nubers = 0\n",
    "while(i<=5):\n",
    "    if(i%2==1):\n",
    "        sum_of_numbers = sum_of_numbers + i\n",
    "    i=i+1\n",
    "print(f'Sum of numbers are: {sum_of_numbers}')    "
   ]
  },
  {
   "cell_type": "code",
   "execution_count": 4,
   "id": "04bb15cc",
   "metadata": {},
   "outputs": [],
   "source": [
    "#Arithmetic\n",
    "#print"
   ]
  },
  {
   "cell_type": "code",
   "execution_count": 6,
   "id": "c30ba84a",
   "metadata": {},
   "outputs": [
    {
     "name": "stdout",
     "output_type": "stream",
     "text": [
      "monu\n"
     ]
    }
   ],
   "source": [
    "print(\"monu\")"
   ]
  },
  {
   "cell_type": "code",
   "execution_count": 7,
   "id": "052c84f3",
   "metadata": {},
   "outputs": [
    {
     "name": "stdout",
     "output_type": "stream",
     "text": [
      "Enter your name:monu\n"
     ]
    }
   ],
   "source": [
    "name = input(\"Enter your name:\")\n"
   ]
  },
  {
   "cell_type": "code",
   "execution_count": 8,
   "id": "d304d5e7",
   "metadata": {},
   "outputs": [
    {
     "name": "stdout",
     "output_type": "stream",
     "text": [
      "Enter your name:monu\n",
      "Welcome monu\n"
     ]
    }
   ],
   "source": [
    "name = input(\"Enter your name:\")\n",
    "print(\"Welcome\",name)"
   ]
  },
  {
   "cell_type": "code",
   "execution_count": 9,
   "id": "474e03b7",
   "metadata": {},
   "outputs": [
    {
     "name": "stdout",
     "output_type": "stream",
     "text": [
      "Enter your name: monu\n",
      "Welcome monu\n"
     ]
    }
   ],
   "source": [
    "name = input(\"Enter your name: \")\n",
    "print(f'Welcome {name}')"
   ]
  },
  {
   "cell_type": "code",
   "execution_count": 10,
   "id": "5807851e",
   "metadata": {},
   "outputs": [
    {
     "name": "stdout",
     "output_type": "stream",
     "text": [
      "Enter your name:monu\n",
      "monu\n"
     ]
    }
   ],
   "source": [
    "name =input(\"Enter your name:\")\n",
    "print(\"{}\".format(name))"
   ]
  },
  {
   "cell_type": "code",
   "execution_count": 11,
   "id": "66a9a4ba",
   "metadata": {},
   "outputs": [],
   "source": [
    "#Arithmetic : +, -, *, /, %, **, //"
   ]
  },
  {
   "cell_type": "code",
   "execution_count": 12,
   "id": "2fd6a837",
   "metadata": {},
   "outputs": [],
   "source": [
    "x = 20\n",
    "y = 3"
   ]
  },
  {
   "cell_type": "code",
   "execution_count": 13,
   "id": "78cc207f",
   "metadata": {},
   "outputs": [
    {
     "data": {
      "text/plain": [
       "23"
      ]
     },
     "execution_count": 13,
     "metadata": {},
     "output_type": "execute_result"
    }
   ],
   "source": [
    "x + y"
   ]
  },
  {
   "cell_type": "code",
   "execution_count": 14,
   "id": "a161dd63",
   "metadata": {},
   "outputs": [
    {
     "data": {
      "text/plain": [
       "17"
      ]
     },
     "execution_count": 14,
     "metadata": {},
     "output_type": "execute_result"
    }
   ],
   "source": [
    "x - y"
   ]
  },
  {
   "cell_type": "code",
   "execution_count": 15,
   "id": "03ea7301",
   "metadata": {},
   "outputs": [
    {
     "data": {
      "text/plain": [
       "60"
      ]
     },
     "execution_count": 15,
     "metadata": {},
     "output_type": "execute_result"
    }
   ],
   "source": [
    "x * y"
   ]
  },
  {
   "cell_type": "code",
   "execution_count": 16,
   "id": "5a5cc6ac",
   "metadata": {},
   "outputs": [
    {
     "data": {
      "text/plain": [
       "6.666666666666667"
      ]
     },
     "execution_count": 16,
     "metadata": {},
     "output_type": "execute_result"
    }
   ],
   "source": [
    "x / y"
   ]
  },
  {
   "cell_type": "code",
   "execution_count": 17,
   "id": "87b8ebae",
   "metadata": {},
   "outputs": [
    {
     "data": {
      "text/plain": [
       "2"
      ]
     },
     "execution_count": 17,
     "metadata": {},
     "output_type": "execute_result"
    }
   ],
   "source": [
    "x % y"
   ]
  },
  {
   "cell_type": "code",
   "execution_count": 18,
   "id": "b915c1be",
   "metadata": {},
   "outputs": [
    {
     "data": {
      "text/plain": [
       "6"
      ]
     },
     "execution_count": 18,
     "metadata": {},
     "output_type": "execute_result"
    }
   ],
   "source": [
    "x // y"
   ]
  },
  {
   "cell_type": "code",
   "execution_count": 19,
   "id": "29403492",
   "metadata": {},
   "outputs": [
    {
     "data": {
      "text/plain": [
       "8"
      ]
     },
     "execution_count": 19,
     "metadata": {},
     "output_type": "execute_result"
    }
   ],
   "source": [
    "2**3"
   ]
  },
  {
   "cell_type": "code",
   "execution_count": 20,
   "id": "944dc9a5",
   "metadata": {},
   "outputs": [],
   "source": [
    "#write a program to print reverse and sum of digits :\n"
   ]
  },
  {
   "cell_type": "code",
   "execution_count": 21,
   "id": "a2b00fbb",
   "metadata": {},
   "outputs": [
    {
     "name": "stdout",
     "output_type": "stream",
     "text": [
      "Enter the number: 123\n",
      "sum of digits are : 6\n"
     ]
    }
   ],
   "source": [
    "num = int(input(\"Enter the number: \"))\n",
    "sum_of_digits = 0\n",
    "rem = 0\n",
    "while(num>0):\n",
    "    rem = num % 10\n",
    "    sum_of_digits = sum_of_digits + rem\n",
    "    num = num // 10\n",
    "print(f'sum of digits are : {sum_of_digits}')"
   ]
  },
  {
   "cell_type": "code",
   "execution_count": 1,
   "id": "76f29720",
   "metadata": {},
   "outputs": [
    {
     "name": "stdout",
     "output_type": "stream",
     "text": [
      "Enter the number: 123\n"
     ]
    },
    {
     "ename": "NameError",
     "evalue": "name 's' is not defined",
     "output_type": "error",
     "traceback": [
      "\u001b[1;31m---------------------------------------------------------------------------\u001b[0m",
      "\u001b[1;31mNameError\u001b[0m                                 Traceback (most recent call last)",
      "Cell \u001b[1;32mIn[1], line 8\u001b[0m\n\u001b[0;32m      6\u001b[0m     sum_of_digits \u001b[38;5;241m=\u001b[39m sum_of_digits \u001b[38;5;241m+\u001b[39m rem\n\u001b[0;32m      7\u001b[0m     num \u001b[38;5;241m=\u001b[39m num \u001b[38;5;241m/\u001b[39m\u001b[38;5;241m/\u001b[39m \u001b[38;5;241m10\u001b[39m\n\u001b[1;32m----> 8\u001b[0m \u001b[38;5;28mprint\u001b[39m(\u001b[38;5;124mf\u001b[39m\u001b[38;5;124m'\u001b[39m\u001b[38;5;124mreverse digits are : \u001b[39m\u001b[38;5;132;01m{\u001b[39;00m\u001b[43ms\u001b[49m\u001b[38;5;132;01m}\u001b[39;00m\u001b[38;5;124m'\u001b[39m)\n",
      "\u001b[1;31mNameError\u001b[0m: name 's' is not defined"
     ]
    }
   ],
   "source": [
    "num = int(input(\"Enter the number: \"))\n",
    "sum_of_digits = 0\n",
    "rem = 0\n",
    "while(num>0):\n",
    "    rem = num % 10\n",
    "    sum_of_digits = sum_of_digits + rem\n",
    "    num = num // 10\n",
    "print(f'reverse digits are : {s}')"
   ]
  },
  {
   "cell_type": "code",
   "execution_count": 34,
   "id": "8ddf7891",
   "metadata": {},
   "outputs": [
    {
     "name": "stdout",
     "output_type": "stream",
     "text": [
      "Enter the number: 321\n",
      "reverse of number is  : 123\n"
     ]
    }
   ],
   "source": [
    "#Reverse of number : 123 : 321\n",
    "num = int(input(\"Enter the number: \"))\n",
    "rev_of_number = 0\n",
    "rem = 0\n",
    "while(num>0):\n",
    "    rem = num % 10\n",
    "    rev_of_number = rev_of_number * 10 + rem\n",
    "    num = num // 10\n",
    "print(f'reverse of number is  : {rev_of_number}')"
   ]
  },
  {
   "cell_type": "code",
   "execution_count": null,
   "id": "49d402f4",
   "metadata": {},
   "outputs": [],
   "source": []
  }
 ],
 "metadata": {
  "kernelspec": {
   "display_name": "Python 3 (ipykernel)",
   "language": "python",
   "name": "python3"
  },
  "language_info": {
   "codemirror_mode": {
    "name": "ipython",
    "version": 3
   },
   "file_extension": ".py",
   "mimetype": "text/x-python",
   "name": "python",
   "nbconvert_exporter": "python",
   "pygments_lexer": "ipython3",
   "version": "3.11.4"
  }
 },
 "nbformat": 4,
 "nbformat_minor": 5
}

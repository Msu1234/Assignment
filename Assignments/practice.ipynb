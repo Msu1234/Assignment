{
 "cells": [
  {
   "cell_type": "code",
   "execution_count": 1,
   "id": "c6e073f3",
   "metadata": {},
   "outputs": [],
   "source": [
    "#Write a program which states that number 3 & 6 is divisible "
   ]
  },
  {
   "cell_type": "code",
   "execution_count": 8,
   "id": "7ed91dd1",
   "metadata": {},
   "outputs": [
    {
     "name": "stdout",
     "output_type": "stream",
     "text": [
      "Enter the number :12\n",
      "Number is divisible\n"
     ]
    }
   ],
   "source": [
    "number = int(input(\"Enter the number :\"))\n",
    "if(number%3==0 and number %6==0):\n",
    "    print(\"Number is divisible\")\n",
    "else:\n",
    "    print(\"Not Divisible\")\n",
    "        "
   ]
  },
  {
   "cell_type": "code",
   "execution_count": 27,
   "id": "3458f2e4",
   "metadata": {},
   "outputs": [
    {
     "name": "stdout",
     "output_type": "stream",
     "text": [
      "Enter the first number :10\n",
      "Enter the second number :10\n",
      "Enter the third number :10\n",
      "Megha\n"
     ]
    }
   ],
   "source": [
    "num1 = int(input(\"Enter the first number :\"))\n",
    "num2 = int(input(\"Enter the second number :\"))\n",
    "num3 = int(input(\"Enter the third number :\"))\n",
    "if(num1 + num2 + num3 == 30):\n",
    "    print(\"Megha\")\n",
    "        \n",
    "    "
   ]
  },
  {
   "cell_type": "code",
   "execution_count": 29,
   "id": "8f4df2bf",
   "metadata": {},
   "outputs": [],
   "source": [
    "#from math import"
   ]
  },
  {
   "cell_type": "code",
   "execution_count": 32,
   "id": "87fb65e4",
   "metadata": {},
   "outputs": [
    {
     "name": "stdout",
     "output_type": "stream",
     "text": [
      "151661\n"
     ]
    }
   ],
   "source": [
    "x=156660\n",
    "y=4999\n",
    "\n",
    "print(x-y)"
   ]
  },
  {
   "cell_type": "code",
   "execution_count": 33,
   "id": "3037aa2b",
   "metadata": {},
   "outputs": [],
   "source": [
    "#Exceptions"
   ]
  },
  {
   "cell_type": "code",
   "execution_count": 35,
   "id": "aedc983b",
   "metadata": {},
   "outputs": [
    {
     "ename": "NameError",
     "evalue": "name 'typeerror' is not defined",
     "output_type": "error",
     "traceback": [
      "\u001b[1;31m---------------------------------------------------------------------------\u001b[0m",
      "\u001b[1;31mNameError\u001b[0m                                 Traceback (most recent call last)",
      "Cell \u001b[1;32mIn[35], line 2\u001b[0m\n\u001b[0;32m      1\u001b[0m \u001b[38;5;28;01mtry\u001b[39;00m :\n\u001b[1;32m----> 2\u001b[0m     \u001b[38;5;241m25\u001b[39m\u001b[38;5;241m+\u001b[39m \u001b[43mhello\u001b[49m\n\u001b[0;32m      3\u001b[0m \u001b[38;5;28;01mexcept\u001b[39;00m typeerror \u001b[38;5;28;01mas\u001b[39;00m f:\n",
      "\u001b[1;31mNameError\u001b[0m: name 'hello' is not defined",
      "\nDuring handling of the above exception, another exception occurred:\n",
      "\u001b[1;31mNameError\u001b[0m                                 Traceback (most recent call last)",
      "Cell \u001b[1;32mIn[35], line 3\u001b[0m\n\u001b[0;32m      1\u001b[0m \u001b[38;5;28;01mtry\u001b[39;00m :\n\u001b[0;32m      2\u001b[0m     \u001b[38;5;241m25\u001b[39m\u001b[38;5;241m+\u001b[39m hello\n\u001b[1;32m----> 3\u001b[0m \u001b[38;5;28;01mexcept\u001b[39;00m \u001b[43mtypeerror\u001b[49m \u001b[38;5;28;01mas\u001b[39;00m f:\n\u001b[0;32m      4\u001b[0m     \u001b[38;5;28mprint\u001b[39m(f)\n\u001b[0;32m      5\u001b[0m \u001b[38;5;28;01melse\u001b[39;00m:\n",
      "\u001b[1;31mNameError\u001b[0m: name 'typeerror' is not defined"
     ]
    }
   ],
   "source": [
    "try :\n",
    "    25+ hello\n",
    "except typeerror as f:\n",
    "    print(f)\n",
    "else:\n",
    "    print(\"Monu\")"
   ]
  },
  {
   "cell_type": "code",
   "execution_count": 36,
   "id": "2e9e332b",
   "metadata": {},
   "outputs": [
    {
     "name": "stdout",
     "output_type": "stream",
     "text": [
      "hello\n"
     ]
    }
   ],
   "source": [
    "ls ={20,23,24}\n",
    "print(\"hello\")"
   ]
  },
  {
   "cell_type": "code",
   "execution_count": 37,
   "id": "6e26d2ef",
   "metadata": {},
   "outputs": [
    {
     "ename": "TypeError",
     "evalue": "'set' object is not subscriptable",
     "output_type": "error",
     "traceback": [
      "\u001b[1;31m---------------------------------------------------------------------------\u001b[0m",
      "\u001b[1;31mTypeError\u001b[0m                                 Traceback (most recent call last)",
      "Cell \u001b[1;32mIn[37], line 1\u001b[0m\n\u001b[1;32m----> 1\u001b[0m \u001b[43mls\u001b[49m\u001b[43m[\u001b[49m\u001b[38;5;241;43m4\u001b[39;49m\u001b[43m]\u001b[49m\n",
      "\u001b[1;31mTypeError\u001b[0m: 'set' object is not subscriptable"
     ]
    }
   ],
   "source": [
    "ls[4]"
   ]
  },
  {
   "cell_type": "code",
   "execution_count": 40,
   "id": "dbd70853",
   "metadata": {},
   "outputs": [
    {
     "name": "stdout",
     "output_type": "stream",
     "text": [
      "q\n",
      "monu\n"
     ]
    }
   ],
   "source": [
    "try :\n",
    "    ls[5]\n",
    "except TypeError as q:\n",
    "    print(\"q\")\n",
    "print(\"monu\")"
   ]
  },
  {
   "cell_type": "code",
   "execution_count": 45,
   "id": "2dc408f0",
   "metadata": {},
   "outputs": [
    {
     "name": "stdout",
     "output_type": "stream",
     "text": [
      "'set' object is not subscriptable\n",
      "monu\n"
     ]
    }
   ],
   "source": [
    "try:\n",
    "    ls[4]\n",
    "except TypeError as c:\n",
    "    print(c)\n",
    "print(\"monu\") "
   ]
  },
  {
   "cell_type": "code",
   "execution_count": 1,
   "id": "91467fbd",
   "metadata": {},
   "outputs": [],
   "source": [
    "#reverse the string"
   ]
  },
  {
   "cell_type": "code",
   "execution_count": 2,
   "id": "88f3a789",
   "metadata": {},
   "outputs": [
    {
     "name": "stdout",
     "output_type": "stream",
     "text": [
      "Monu\n"
     ]
    }
   ],
   "source": [
    "name= \"Monu\"\n",
    "print(name)"
   ]
  },
  {
   "cell_type": "code",
   "execution_count": 5,
   "id": "fd55313c",
   "metadata": {},
   "outputs": [
    {
     "name": "stdout",
     "output_type": "stream",
     "text": [
      "unoM\n"
     ]
    }
   ],
   "source": [
    "name = \"Monu\"[::-1]\n",
    "print(name)"
   ]
  },
  {
   "cell_type": "code",
   "execution_count": 12,
   "id": "3357b493",
   "metadata": {},
   "outputs": [
    {
     "name": "stdout",
     "output_type": "stream",
     "text": [
      "uno\n"
     ]
    }
   ],
   "source": [
    "name = \"Monu\"[-1:-4:-1]\n",
    "print(name)"
   ]
  },
  {
   "cell_type": "code",
   "execution_count": 16,
   "id": "399a4248",
   "metadata": {},
   "outputs": [
    {
     "name": "stdout",
     "output_type": "stream",
     "text": [
      "nah\n"
     ]
    }
   ],
   "source": [
    "name= \"Manmohan\"[-1:-4:-1]\n",
    "print(name)"
   ]
  },
  {
   "cell_type": "code",
   "execution_count": 8,
   "id": "31f6d085",
   "metadata": {},
   "outputs": [
    {
     "name": "stdout",
     "output_type": "stream",
     "text": [
      "8\n"
     ]
    }
   ],
   "source": [
    "def multiply(x,y):\n",
    "    product= x*y\n",
    "    return product\n",
    "\n",
    "num= multiply(2,4)\n",
    "print(num)\n"
   ]
  },
  {
   "cell_type": "code",
   "execution_count": 20,
   "id": "bfa64c3a",
   "metadata": {},
   "outputs": [],
   "source": [
    "def greet(name):\n",
    "    print(f\"Hello Mr.{name}!\")"
   ]
  },
  {
   "cell_type": "code",
   "execution_count": 21,
   "id": "568469de",
   "metadata": {},
   "outputs": [
    {
     "name": "stdout",
     "output_type": "stream",
     "text": [
      "Hello Mr.monu!\n"
     ]
    }
   ],
   "source": [
    "greet(\"monu\")"
   ]
  },
  {
   "cell_type": "code",
   "execution_count": null,
   "id": "8f59dfe2",
   "metadata": {},
   "outputs": [],
   "source": []
  },
  {
   "cell_type": "code",
   "execution_count": 28,
   "id": "1ae4c328",
   "metadata": {},
   "outputs": [
    {
     "name": "stdout",
     "output_type": "stream",
     "text": [
      "p\n",
      "y\n",
      "t\n",
      "h\n",
      "o\n",
      "n\n"
     ]
    }
   ],
   "source": [
    "word =\"python\"\n",
    "index=0\n",
    "\n",
    "while index< len(word):\n",
    "    print(word[index])\n",
    "    index= index +1"
   ]
  },
  {
   "cell_type": "code",
   "execution_count": 34,
   "id": "433bddc9",
   "metadata": {},
   "outputs": [
    {
     "name": "stdout",
     "output_type": "stream",
     "text": [
      "python\n",
      "python\n",
      "python\n",
      "python\n",
      "python\n",
      "python\n"
     ]
    }
   ],
   "source": [
    "for n in range(3,9):\n",
    "    print(\"python\")"
   ]
  },
  {
   "cell_type": "code",
   "execution_count": 35,
   "id": "f52caea6",
   "metadata": {},
   "outputs": [
    {
     "name": "stdout",
     "output_type": "stream",
     "text": [
      "100\n",
      "121\n",
      "144\n",
      "169\n",
      "196\n",
      "225\n",
      "256\n",
      "289\n",
      "324\n",
      "361\n"
     ]
    }
   ],
   "source": [
    "for n in range(10,20):\n",
    "    print(n*n)"
   ]
  },
  {
   "cell_type": "code",
   "execution_count": 37,
   "id": "c11c5457",
   "metadata": {},
   "outputs": [
    {
     "name": "stdout",
     "output_type": "stream",
     "text": [
      "Enter the number: 10\n",
      "2 people: $5.0 each\n",
      "3 people: $3.3333333333333335 each\n",
      "4 people: $2.5 each\n",
      "5 people: $2.0 each\n"
     ]
    }
   ],
   "source": [
    "amount= float(input(\"Enter the number: \"))\n",
    "for num_people in range(2,6):\n",
    "    print(f\"{num_people} people: ${amount/num_people} each\")"
   ]
  },
  {
   "cell_type": "code",
   "execution_count": 38,
   "id": "542d764c",
   "metadata": {},
   "outputs": [
    {
     "name": "stdout",
     "output_type": "stream",
     "text": [
      "ENter the number: 10\n",
      "2is : $5.0 each\n",
      "3is : $3.3333333333333335 each\n",
      "4is : $2.5 each\n",
      "5is : $2.0 each\n",
      "6is : $1.6666666666666667 each\n",
      "7is : $1.4285714285714286 each\n",
      "8is : $1.25 each\n",
      "9is : $1.1111111111111112 each\n"
     ]
    }
   ],
   "source": [
    "amount= int(input(\"ENter the number: \"))\n",
    "for n in range(2,10):\n",
    "    print(f\"{n}is : ${amount/n} each\")\n"
   ]
  },
  {
   "cell_type": "code",
   "execution_count": 39,
   "id": "5b709c84",
   "metadata": {},
   "outputs": [
    {
     "name": "stdout",
     "output_type": "stream",
     "text": [
      "Enter the number: 2\n",
      "2\n",
      "3\n",
      "4\n",
      "5\n",
      "6\n",
      "7\n",
      "8\n",
      "9\n",
      "10\n"
     ]
    }
   ],
   "source": [
    "num= int(input(\"Enter the number: \"))\n",
    "while num<=10:\n",
    "    print(num)\n",
    "    num= num+1"
   ]
  },
  {
   "cell_type": "code",
   "execution_count": 41,
   "id": "c9a3c7a9",
   "metadata": {},
   "outputs": [
    {
     "name": "stdout",
     "output_type": "stream",
     "text": [
      "2\n",
      "3\n",
      "4\n",
      "5\n",
      "6\n",
      "7\n",
      "8\n",
      "9\n",
      "10\n"
     ]
    }
   ],
   "source": [
    "for num in range(2,11):\n",
    "    print(num)\n",
    "    "
   ]
  },
  {
   "cell_type": "code",
   "execution_count": 44,
   "id": "e51a1c0c",
   "metadata": {},
   "outputs": [],
   "source": [
    "def invest(amount,rates,years):\n",
    "    for years in range(1,years+1):\n",
    "        increase= amount*rates\n",
    "        amount= amount+ rates\n",
    "        print(f\"year{years}: increase={increase:.2f},new amount={amount:.2f}\")"
   ]
  },
  {
   "cell_type": "code",
   "execution_count": 47,
   "id": "2e18a85a",
   "metadata": {},
   "outputs": [
    {
     "name": "stdout",
     "output_type": "stream",
     "text": [
      "year1: increase=500.00,new amount=105.00\n",
      "year2: increase=525.00,new amount=110.00\n",
      "year3: increase=550.00,new amount=115.00\n",
      "year4: increase=575.00,new amount=120.00\n",
      "<function invest at 0x000002685A852480>\n"
     ]
    }
   ],
   "source": [
    "invest(100,5,4)\n",
    "print(invest)"
   ]
  },
  {
   "cell_type": "code",
   "execution_count": null,
   "id": "09b4171f",
   "metadata": {},
   "outputs": [],
   "source": []
  }
 ],
 "metadata": {
  "kernelspec": {
   "display_name": "Python 3 (ipykernel)",
   "language": "python",
   "name": "python3"
  },
  "language_info": {
   "codemirror_mode": {
    "name": "ipython",
    "version": 3
   },
   "file_extension": ".py",
   "mimetype": "text/x-python",
   "name": "python",
   "nbconvert_exporter": "python",
   "pygments_lexer": "ipython3",
   "version": "3.11.4"
  }
 },
 "nbformat": 4,
 "nbformat_minor": 5
}

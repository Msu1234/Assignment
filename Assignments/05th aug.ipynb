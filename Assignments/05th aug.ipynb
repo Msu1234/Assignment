{
 "cells": [
  {
   "cell_type": "code",
   "execution_count": 1,
   "id": "31662b70",
   "metadata": {},
   "outputs": [
    {
     "name": "stdout",
     "output_type": "stream",
     "text": [
      "Enter the number: 5\n",
      "factorial of number is 120\n"
     ]
    }
   ],
   "source": [
    "res = lambda num:1 if num<=1 else num * res(num-1)\n",
    "\n",
    "n= int(input(\"Enter the number: \"))\n",
    "\n",
    "result= res(n)\n",
    "\n",
    "print(f'factorial of number is {result}')"
   ]
  },
  {
   "cell_type": "code",
   "execution_count": 2,
   "id": "8d29edba",
   "metadata": {},
   "outputs": [],
   "source": [
    "#function:\n",
    "#Anonymous function : lambda\n",
    "#ternary\n"
   ]
  },
  {
   "cell_type": "code",
   "execution_count": 5,
   "id": "8dc7f05f",
   "metadata": {},
   "outputs": [],
   "source": [
    "def findfactorial(num):\n",
    "    fact = 1\n",
    "    for i in range(num+1):\n",
    "        fact= fact *1\n",
    "    return fact"
   ]
  },
  {
   "cell_type": "code",
   "execution_count": 6,
   "id": "7dcbfed8",
   "metadata": {},
   "outputs": [
    {
     "data": {
      "text/plain": [
       "1"
      ]
     },
     "execution_count": 6,
     "metadata": {},
     "output_type": "execute_result"
    }
   ],
   "source": [
    "findfactorial(5)"
   ]
  },
  {
   "cell_type": "code",
   "execution_count": 9,
   "id": "8b56b2c6",
   "metadata": {},
   "outputs": [],
   "source": [
    "result = lambda x,y : x+y"
   ]
  },
  {
   "cell_type": "code",
   "execution_count": 11,
   "id": "dbba0597",
   "metadata": {},
   "outputs": [
    {
     "data": {
      "text/plain": [
       "10"
      ]
     },
     "execution_count": 11,
     "metadata": {},
     "output_type": "execute_result"
    }
   ],
   "source": [
    "result(5,5)"
   ]
  },
  {
   "cell_type": "code",
   "execution_count": null,
   "id": "3fd7ed71",
   "metadata": {},
   "outputs": [],
   "source": [
    "def addnumber(x,y):\n",
    "    return x+y"
   ]
  },
  {
   "cell_type": "code",
   "execution_count": 12,
   "id": "eed160f9",
   "metadata": {},
   "outputs": [
    {
     "data": {
      "text/plain": [
       "50"
      ]
     },
     "execution_count": 12,
     "metadata": {},
     "output_type": "execute_result"
    }
   ],
   "source": [
    "result(25,25)"
   ]
  },
  {
   "cell_type": "code",
   "execution_count": 14,
   "id": "1ec07556",
   "metadata": {},
   "outputs": [
    {
     "ename": "NameError",
     "evalue": "name 'addNumber' is not defined",
     "output_type": "error",
     "traceback": [
      "\u001b[1;31m---------------------------------------------------------------------------\u001b[0m",
      "\u001b[1;31mNameError\u001b[0m                                 Traceback (most recent call last)",
      "Cell \u001b[1;32mIn[14], line 1\u001b[0m\n\u001b[1;32m----> 1\u001b[0m \u001b[43maddNumber\u001b[49m(\u001b[38;5;241m55\u001b[39m,\u001b[38;5;241m45\u001b[39m)\n",
      "\u001b[1;31mNameError\u001b[0m: name 'addNumber' is not defined"
     ]
    }
   ],
   "source": [
    "addNumber(55,45)"
   ]
  },
  {
   "cell_type": "code",
   "execution_count": 15,
   "id": "20e69825",
   "metadata": {},
   "outputs": [],
   "source": [
    "res = lambda num : 1 if num<=1 else num * res(num-1)"
   ]
  },
  {
   "cell_type": "code",
   "execution_count": 16,
   "id": "0e9dbd4f",
   "metadata": {},
   "outputs": [
    {
     "data": {
      "text/plain": [
       "120"
      ]
     },
     "execution_count": 16,
     "metadata": {},
     "output_type": "execute_result"
    }
   ],
   "source": [
    "res(5)"
   ]
  },
  {
   "cell_type": "code",
   "execution_count": 17,
   "id": "55646069",
   "metadata": {},
   "outputs": [],
   "source": [
    "#greatest among three numbers using ternary operator: lambda function\n",
    "#greatest among four numbers using ternary operator: lambda function"
   ]
  },
  {
   "cell_type": "code",
   "execution_count": 20,
   "id": "abc63823",
   "metadata": {},
   "outputs": [],
   "source": [
    "reslut = lambda x,y,z : max(x,y,z)"
   ]
  },
  {
   "cell_type": "code",
   "execution_count": 22,
   "id": "0f03707b",
   "metadata": {},
   "outputs": [
    {
     "data": {
      "text/plain": [
       "97"
      ]
     },
     "execution_count": 22,
     "metadata": {},
     "output_type": "execute_result"
    }
   ],
   "source": [
    "result(45,52)"
   ]
  },
  {
   "cell_type": "code",
   "execution_count": 23,
   "id": "4d6c7811",
   "metadata": {},
   "outputs": [],
   "source": [
    "def maximumNumber(x,y):\n",
    "    if(x>y):\n",
    "        print(\"X is greater\")\n",
    "    else:\n",
    "        print(\"y is greater\")"
   ]
  },
  {
   "cell_type": "code",
   "execution_count": 24,
   "id": "01249267",
   "metadata": {},
   "outputs": [
    {
     "name": "stdout",
     "output_type": "stream",
     "text": [
      "y is greater\n"
     ]
    }
   ],
   "source": [
    "maximumNumber(11,12)"
   ]
  },
  {
   "cell_type": "code",
   "execution_count": 25,
   "id": "f32f5fe0",
   "metadata": {},
   "outputs": [],
   "source": [
    "result = lambda x,y,z: x if x>y and x>z else y if y>z else z"
   ]
  },
  {
   "cell_type": "code",
   "execution_count": 26,
   "id": "9b677b33",
   "metadata": {},
   "outputs": [
    {
     "data": {
      "text/plain": [
       "75"
      ]
     },
     "execution_count": 26,
     "metadata": {},
     "output_type": "execute_result"
    }
   ],
   "source": [
    "result(44,56,75)"
   ]
  },
  {
   "cell_type": "code",
   "execution_count": 38,
   "id": "f19167e3",
   "metadata": {},
   "outputs": [
    {
     "ename": "SyntaxError",
     "evalue": "expected 'else' after 'if' expression (1798704214.py, line 1)",
     "output_type": "error",
     "traceback": [
      "\u001b[1;36m  Cell \u001b[1;32mIn[38], line 1\u001b[1;36m\u001b[0m\n\u001b[1;33m    result = lambda a,b,c,d: a if  a>b and a>c and a>d else b if  b>a and b>c and b>d and else c if c>a and c>b and c>d and else d\u001b[0m\n\u001b[1;37m                                                            ^\u001b[0m\n\u001b[1;31mSyntaxError\u001b[0m\u001b[1;31m:\u001b[0m expected 'else' after 'if' expression\n"
     ]
    }
   ],
   "source": [
    "result = lambda a,b,c,d: a if  a>b and a>c and a>d else b if  b>a and b>c and b>d and else c if c>a and c>b and c>d and else d"
   ]
  },
  {
   "cell_type": "code",
   "execution_count": 39,
   "id": "ff91a39d",
   "metadata": {},
   "outputs": [
    {
     "ename": "SyntaxError",
     "evalue": "expected 'else' after 'if' expression (1798704214.py, line 1)",
     "output_type": "error",
     "traceback": [
      "\u001b[1;36m  Cell \u001b[1;32mIn[39], line 1\u001b[1;36m\u001b[0m\n\u001b[1;33m    result = lambda a,b,c,d: a if  a>b and a>c and a>d else b if  b>a and b>c and b>d and else c if c>a and c>b and c>d and else d\u001b[0m\n\u001b[1;37m                                                            ^\u001b[0m\n\u001b[1;31mSyntaxError\u001b[0m\u001b[1;31m:\u001b[0m expected 'else' after 'if' expression\n"
     ]
    }
   ],
   "source": [
    "result = lambda a,b,c,d: a if  a>b and a>c and a>d else b if  b>a and b>c and b>d and else c if c>a and c>b and c>d and else d"
   ]
  },
  {
   "cell_type": "code",
   "execution_count": 47,
   "id": "9c1cf26f",
   "metadata": {},
   "outputs": [],
   "source": [
    "def multiplyNumber(x,y,z):\n",
    "    return x+y+z"
   ]
  },
  {
   "cell_type": "code",
   "execution_count": 48,
   "id": "be664ef0",
   "metadata": {},
   "outputs": [
    {
     "data": {
      "text/plain": [
       "6"
      ]
     },
     "execution_count": 48,
     "metadata": {},
     "output_type": "execute_result"
    }
   ],
   "source": [
    "result(6,3,2)"
   ]
  },
  {
   "cell_type": "code",
   "execution_count": 49,
   "id": "68da7bfc",
   "metadata": {},
   "outputs": [
    {
     "data": {
      "text/plain": [
       "6"
      ]
     },
     "execution_count": 49,
     "metadata": {},
     "output_type": "execute_result"
    }
   ],
   "source": [
    "result(6,3,2)"
   ]
  },
  {
   "cell_type": "code",
   "execution_count": 51,
   "id": "d26e0328",
   "metadata": {},
   "outputs": [
    {
     "ename": "SyntaxError",
     "evalue": "invalid syntax (1185934217.py, line 1)",
     "output_type": "error",
     "traceback": [
      "\u001b[1;36m  Cell \u001b[1;32mIn[51], line 1\u001b[1;36m\u001b[0m\n\u001b[1;33m    lambda = x,y,z : x+y+z\u001b[0m\n\u001b[1;37m           ^\u001b[0m\n\u001b[1;31mSyntaxError\u001b[0m\u001b[1;31m:\u001b[0m invalid syntax\n"
     ]
    }
   ],
   "source": [
    "lambda = x,y,z : x+y+z"
   ]
  },
  {
   "cell_type": "code",
   "execution_count": 52,
   "id": "db04a07f",
   "metadata": {},
   "outputs": [],
   "source": [
    "result = lambda x,y : x+y"
   ]
  },
  {
   "cell_type": "code",
   "execution_count": 56,
   "id": "0eed8139",
   "metadata": {},
   "outputs": [
    {
     "data": {
      "text/plain": [
       "10"
      ]
     },
     "execution_count": 56,
     "metadata": {},
     "output_type": "execute_result"
    }
   ],
   "source": [
    "result(5,5)"
   ]
  },
  {
   "cell_type": "code",
   "execution_count": 60,
   "id": "713bd340",
   "metadata": {},
   "outputs": [],
   "source": [
    "res= lambda x,y,z : x*y*z"
   ]
  },
  {
   "cell_type": "code",
   "execution_count": 62,
   "id": "7326795c",
   "metadata": {},
   "outputs": [
    {
     "data": {
      "text/plain": [
       "125"
      ]
     },
     "execution_count": 62,
     "metadata": {},
     "output_type": "execute_result"
    }
   ],
   "source": [
    "res(5,5,5)"
   ]
  },
  {
   "cell_type": "code",
   "execution_count": null,
   "id": "2634a20f",
   "metadata": {},
   "outputs": [],
   "source": []
  }
 ],
 "metadata": {
  "kernelspec": {
   "display_name": "Python 3 (ipykernel)",
   "language": "python",
   "name": "python3"
  },
  "language_info": {
   "codemirror_mode": {
    "name": "ipython",
    "version": 3
   },
   "file_extension": ".py",
   "mimetype": "text/x-python",
   "name": "python",
   "nbconvert_exporter": "python",
   "pygments_lexer": "ipython3",
   "version": "3.11.4"
  }
 },
 "nbformat": 4,
 "nbformat_minor": 5
}

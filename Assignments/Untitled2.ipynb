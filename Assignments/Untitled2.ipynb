{
 "cells": [
  {
   "cell_type": "code",
   "execution_count": 1,
   "id": "4f100bff",
   "metadata": {},
   "outputs": [
    {
     "name": "stdout",
     "output_type": "stream",
     "text": [
      "Enter First Number: 25\n",
      "Enter Second Number : 25\n",
      "Enter Third number : 25\n",
      "75\n"
     ]
    }
   ],
   "source": [
    "num1 = int(input(\"Enter First Number: \"))\n",
    "num2 = int(input(\"Enter Second Number : \"))\n",
    "num3 = int(input(\"Enter Third number : \"))\n",
    "add = num1 + num2+num3\n",
    "print(add)"
   ]
  },
  {
   "cell_type": "code",
   "execution_count": 6,
   "id": "9d04f8d8",
   "metadata": {},
   "outputs": [
    {
     "name": "stdout",
     "output_type": "stream",
     "text": [
      "Enter first number: 50\n",
      "Enter the second number: 5\n",
      "Enter the third number: 10\n",
      "35\n"
     ]
    }
   ],
   "source": [
    "num1 = int(input(\"Enter first number: \"))\n",
    "num2 = int(input(\"Enter the second number: \"))\n",
    "num3 = int(input(\"Enter the third number: \"))\n",
    "Subtract = num1 - num2 - num3\n",
    "print(Subtract)           "
   ]
  },
  {
   "cell_type": "code",
   "execution_count": 7,
   "id": "ccd487a9",
   "metadata": {},
   "outputs": [
    {
     "name": "stdout",
     "output_type": "stream",
     "text": [
      "Enter the first number:5\n",
      "Enter the second number:5\n",
      "Enter the third number:5\n",
      "125\n"
     ]
    }
   ],
   "source": [
    "num1 = int(input(\"Enter the first number:\"))\n",
    "num2 = int(input(\"Enter the second number:\"))\n",
    "num3 = int(input(\"Enter the third number:\"))\n",
    "Multiply = num1 * num2 * num3\n",
    "print(Multiply)\n"
   ]
  },
  {
   "cell_type": "code",
   "execution_count": 12,
   "id": "e884ca0e",
   "metadata": {},
   "outputs": [
    {
     "name": "stdout",
     "output_type": "stream",
     "text": [
      "Enter the first numner:1000\n",
      "Enter the second number:5\n",
      "Enter the third number:5\n",
      "40.0\n"
     ]
    }
   ],
   "source": [
    "num1 = int(input(\"Enter the first numner:\"))\n",
    "num2 = int(input(\"Enter the second number:\"))\n",
    "num3 = int(input(\"Enter the third number:\"))\n",
    "Divide = num1 / num2 / num3\n",
    "print(Divide)"
   ]
  },
  {
   "cell_type": "code",
   "execution_count": 15,
   "id": "9bd801f2",
   "metadata": {},
   "outputs": [
    {
     "name": "stdout",
     "output_type": "stream",
     "text": [
      "Enter the first numner:10000\n",
      "Enter the second number:2\n",
      "Enter the third number:1\n",
      "0\n"
     ]
    }
   ],
   "source": [
    "num1 = int(input(\"Enter the first numner:\"))\n",
    "num2 = int(input(\"Enter the second number:\"))\n",
    "num3 = int(input(\"Enter the third number:\"))\n",
    "percentage = num1 % num2 % num3\n",
    "print(percentage)"
   ]
  },
  {
   "cell_type": "code",
   "execution_count": null,
   "id": "1d17c37f",
   "metadata": {},
   "outputs": [],
   "source": [
    "num1 = int(input(\"Enter the first number:\"))\n",
    "num2 = int(input(\"Enter the second number:\"))\n",
    "num3 = int(input(\"Enter the third number: \"))\n",
    "modular_division = num1** num2** num3**\n",
    "print(modular_division)        "
   ]
  },
  {
   "cell_type": "code",
   "execution_count": null,
   "id": "40bccf38",
   "metadata": {},
   "outputs": [],
   "source": []
  },
  {
   "cell_type": "code",
   "execution_count": null,
   "id": "b2cd99f7",
   "metadata": {},
   "outputs": [],
   "source": []
  }
 ],
 "metadata": {
  "kernelspec": {
   "display_name": "Python 3 (ipykernel)",
   "language": "python",
   "name": "python3"
  },
  "language_info": {
   "codemirror_mode": {
    "name": "ipython",
    "version": 3
   },
   "file_extension": ".py",
   "mimetype": "text/x-python",
   "name": "python",
   "nbconvert_exporter": "python",
   "pygments_lexer": "ipython3",
   "version": "3.11.4"
  }
 },
 "nbformat": 4,
 "nbformat_minor": 5
}

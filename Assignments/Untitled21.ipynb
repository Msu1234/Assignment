{
 "cells": [
  {
   "cell_type": "code",
   "execution_count": 1,
   "id": "72f10f19",
   "metadata": {},
   "outputs": [],
   "source": [
    "x=20\n",
    "y=30\n",
    "swap_number=0\n",
    "if(x<y == swap_number):\n",
    "    print(swap_number)\n",
    "    "
   ]
  },
  {
   "cell_type": "code",
   "execution_count": 2,
   "id": "33531b85",
   "metadata": {},
   "outputs": [],
   "source": [
    "#string"
   ]
  },
  {
   "cell_type": "code",
   "execution_count": 11,
   "id": "72d4d551",
   "metadata": {},
   "outputs": [
    {
     "ename": "NameError",
     "evalue": "name 'string' is not defined",
     "output_type": "error",
     "traceback": [
      "\u001b[1;31m---------------------------------------------------------------------------\u001b[0m",
      "\u001b[1;31mNameError\u001b[0m                                 Traceback (most recent call last)",
      "Cell \u001b[1;32mIn[11], line 7\u001b[0m\n\u001b[0;32m      4\u001b[0m quantity\u001b[38;5;241m=\u001b[39m\u001b[38;5;241m3\u001b[39m\n\u001b[0;32m      5\u001b[0m price\u001b[38;5;241m=\u001b[39m\u001b[38;5;241m450\u001b[39m\n\u001b[1;32m----> 7\u001b[0m \u001b[43mstring\u001b[49m\u001b[38;5;241m.\u001b[39mformat()\u001b[38;5;241m==\u001b[39m total_money(\u001b[38;5;241m1000\u001b[39m), Quantity \u001b[38;5;129;01mis\u001b[39;00m {\u001b[38;5;241m3\u001b[39m}, price \u001b[38;5;129;01mis\u001b[39;00m {\u001b[38;5;241m450\u001b[39m}\n\u001b[0;32m      8\u001b[0m string\u001b[38;5;241m.\u001b[39mformat()\u001b[38;5;241m==\u001b[39m st\n\u001b[0;32m      9\u001b[0m \u001b[38;5;28mprint\u001b[39m(st)\n",
      "\u001b[1;31mNameError\u001b[0m: name 'string' is not defined"
     ]
    }
   ],
   "source": [
    "#variables\n",
    "\n",
    "total_money =1000\n",
    "quantity=3\n",
    "price=450\n",
    "\n",
    "string.format()== total_money(1000), Quantity is {3}, price is {450}\n",
    "string.format()== st\n",
    "print(st)"
   ]
  },
  {
   "cell_type": "code",
   "execution_count": 53,
   "id": "6c344b8f",
   "metadata": {},
   "outputs": [
    {
     "ename": "SyntaxError",
     "evalue": "unterminated string literal (detected at line 9) (486042147.py, line 9)",
     "output_type": "error",
     "traceback": [
      "\u001b[1;36m  Cell \u001b[1;32mIn[53], line 9\u001b[1;36m\u001b[0m\n\u001b[1;33m    print('After swapping)\u001b[0m\n\u001b[1;37m          ^\u001b[0m\n\u001b[1;31mSyntaxError\u001b[0m\u001b[1;31m:\u001b[0m unterminated string literal (detected at line 9)\n"
     ]
    }
   ],
   "source": [
    "a =int(input(\"Enter the number: \"))\n",
    "b = int(input(\"Enter the number: \"))\n",
    "swap_variable= a, b\n",
    "while(a<b):\n",
    "#swapping the below variables\n",
    "    a= a +b\n",
    "    b= a -b\n",
    "    a= a-b\n",
    "print('After swapping)\n"
   ]
  },
  {
   "cell_type": "code",
   "execution_count": 56,
   "id": "fa94cc1c",
   "metadata": {},
   "outputs": [
    {
     "name": "stdout",
     "output_type": "stream",
     "text": [
      "(False, False, False)\n"
     ]
    },
    {
     "name": "stderr",
     "output_type": "stream",
     "text": [
      "<>:9: SyntaxWarning: \"is\" with a literal. Did you mean \"==\"?\n",
      "<>:9: SyntaxWarning: \"is\" with a literal. Did you mean \"==\"?\n",
      "C:\\Users\\dell\\AppData\\Local\\Temp\\ipykernel_3100\\2332041406.py:9: SyntaxWarning: \"is\" with a literal. Did you mean \"==\"?\n",
      "  formatted_string= total_money is (1000), quantity is {3}, price is {450}\n"
     ]
    }
   ],
   "source": [
    "#string\n",
    "\n",
    "total_money =1000\n",
    "quantity=3\n",
    "price=450\n",
    "\n",
    "#format using string.format()\n",
    "\n",
    "formatted_string= total_money is (1000), quantity is {3}, price is {450}\n",
    "print(formatted_string)"
   ]
  },
  {
   "cell_type": "code",
   "execution_count": null,
   "id": "553c5448",
   "metadata": {},
   "outputs": [],
   "source": []
  }
 ],
 "metadata": {
  "kernelspec": {
   "display_name": "Python 3 (ipykernel)",
   "language": "python",
   "name": "python3"
  },
  "language_info": {
   "codemirror_mode": {
    "name": "ipython",
    "version": 3
   },
   "file_extension": ".py",
   "mimetype": "text/x-python",
   "name": "python",
   "nbconvert_exporter": "python",
   "pygments_lexer": "ipython3",
   "version": "3.11.4"
  }
 },
 "nbformat": 4,
 "nbformat_minor": 5
}
